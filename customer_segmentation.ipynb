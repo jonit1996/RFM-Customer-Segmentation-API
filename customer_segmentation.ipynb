{
 "cells": [
  {
   "cell_type": "code",
   "execution_count": 53,
   "metadata": {},
   "outputs": [],
   "source": [
    "import pandas as pd\n",
    "import numpy as np\n",
    "import matplotlib.pyplot as plt\n",
    "import seaborn as sns\n",
    "from sklearn.preprocessing import Normalizer, StandardScaler\n",
    "from sklearn.model_selection import train_test_split, cross_validate\n",
    "from sklearn.svm import SVC\n",
    "from sklearn.ensemble import RandomForestClassifier\n",
    "from sklearn.linear_model import LogisticRegression\n",
    "from sklearn.metrics import classification_report, accuracy_score, f1_score"
   ]
  },
  {
   "cell_type": "markdown",
   "metadata": {},
   "source": [
    "## Load Data"
   ]
  },
  {
   "cell_type": "code",
   "execution_count": 54,
   "metadata": {},
   "outputs": [],
   "source": [
    "data= pd.read_csv('data/EcomerceData.csv', encoding=\"ISO-8859-1\")"
   ]
  },
  {
   "cell_type": "code",
   "execution_count": 55,
   "metadata": {},
   "outputs": [
    {
     "data": {
      "text/html": [
       "<div>\n",
       "<style scoped>\n",
       "    .dataframe tbody tr th:only-of-type {\n",
       "        vertical-align: middle;\n",
       "    }\n",
       "\n",
       "    .dataframe tbody tr th {\n",
       "        vertical-align: top;\n",
       "    }\n",
       "\n",
       "    .dataframe thead th {\n",
       "        text-align: right;\n",
       "    }\n",
       "</style>\n",
       "<table border=\"1\" class=\"dataframe\">\n",
       "  <thead>\n",
       "    <tr style=\"text-align: right;\">\n",
       "      <th></th>\n",
       "      <th>InvoiceNo</th>\n",
       "      <th>StockCode</th>\n",
       "      <th>Description</th>\n",
       "      <th>Quantity</th>\n",
       "      <th>InvoiceDate</th>\n",
       "      <th>UnitPrice</th>\n",
       "      <th>CustomerID</th>\n",
       "      <th>Country</th>\n",
       "    </tr>\n",
       "  </thead>\n",
       "  <tbody>\n",
       "    <tr>\n",
       "      <th>0</th>\n",
       "      <td>536365</td>\n",
       "      <td>85123A</td>\n",
       "      <td>WHITE HANGING HEART T-LIGHT HOLDER</td>\n",
       "      <td>6</td>\n",
       "      <td>12-01-2010 08:26</td>\n",
       "      <td>2.55</td>\n",
       "      <td>17850.0</td>\n",
       "      <td>United Kingdom</td>\n",
       "    </tr>\n",
       "    <tr>\n",
       "      <th>1</th>\n",
       "      <td>536365</td>\n",
       "      <td>71053</td>\n",
       "      <td>WHITE METAL LANTERN</td>\n",
       "      <td>6</td>\n",
       "      <td>12-01-2010 08:26</td>\n",
       "      <td>3.39</td>\n",
       "      <td>17850.0</td>\n",
       "      <td>United Kingdom</td>\n",
       "    </tr>\n",
       "    <tr>\n",
       "      <th>2</th>\n",
       "      <td>536365</td>\n",
       "      <td>84406B</td>\n",
       "      <td>CREAM CUPID HEARTS COAT HANGER</td>\n",
       "      <td>8</td>\n",
       "      <td>12-01-2010 08:26</td>\n",
       "      <td>2.75</td>\n",
       "      <td>17850.0</td>\n",
       "      <td>United Kingdom</td>\n",
       "    </tr>\n",
       "    <tr>\n",
       "      <th>3</th>\n",
       "      <td>536365</td>\n",
       "      <td>84029G</td>\n",
       "      <td>KNITTED UNION FLAG HOT WATER BOTTLE</td>\n",
       "      <td>6</td>\n",
       "      <td>12-01-2010 08:26</td>\n",
       "      <td>3.39</td>\n",
       "      <td>17850.0</td>\n",
       "      <td>United Kingdom</td>\n",
       "    </tr>\n",
       "    <tr>\n",
       "      <th>4</th>\n",
       "      <td>536365</td>\n",
       "      <td>84029E</td>\n",
       "      <td>RED WOOLLY HOTTIE WHITE HEART.</td>\n",
       "      <td>6</td>\n",
       "      <td>12-01-2010 08:26</td>\n",
       "      <td>3.39</td>\n",
       "      <td>17850.0</td>\n",
       "      <td>United Kingdom</td>\n",
       "    </tr>\n",
       "    <tr>\n",
       "      <th>...</th>\n",
       "      <td>...</td>\n",
       "      <td>...</td>\n",
       "      <td>...</td>\n",
       "      <td>...</td>\n",
       "      <td>...</td>\n",
       "      <td>...</td>\n",
       "      <td>...</td>\n",
       "      <td>...</td>\n",
       "    </tr>\n",
       "    <tr>\n",
       "      <th>541904</th>\n",
       "      <td>581587</td>\n",
       "      <td>22613</td>\n",
       "      <td>PACK OF 20 SPACEBOY NAPKINS</td>\n",
       "      <td>12</td>\n",
       "      <td>12-09-2011 12:50</td>\n",
       "      <td>0.85</td>\n",
       "      <td>12680.0</td>\n",
       "      <td>France</td>\n",
       "    </tr>\n",
       "    <tr>\n",
       "      <th>541905</th>\n",
       "      <td>581587</td>\n",
       "      <td>22899</td>\n",
       "      <td>CHILDREN'S APRON DOLLY GIRL</td>\n",
       "      <td>6</td>\n",
       "      <td>12-09-2011 12:50</td>\n",
       "      <td>2.10</td>\n",
       "      <td>12680.0</td>\n",
       "      <td>France</td>\n",
       "    </tr>\n",
       "    <tr>\n",
       "      <th>541906</th>\n",
       "      <td>581587</td>\n",
       "      <td>23254</td>\n",
       "      <td>CHILDRENS CUTLERY DOLLY GIRL</td>\n",
       "      <td>4</td>\n",
       "      <td>12-09-2011 12:50</td>\n",
       "      <td>4.15</td>\n",
       "      <td>12680.0</td>\n",
       "      <td>France</td>\n",
       "    </tr>\n",
       "    <tr>\n",
       "      <th>541907</th>\n",
       "      <td>581587</td>\n",
       "      <td>23255</td>\n",
       "      <td>CHILDRENS CUTLERY CIRCUS PARADE</td>\n",
       "      <td>4</td>\n",
       "      <td>12-09-2011 12:50</td>\n",
       "      <td>4.15</td>\n",
       "      <td>12680.0</td>\n",
       "      <td>France</td>\n",
       "    </tr>\n",
       "    <tr>\n",
       "      <th>541908</th>\n",
       "      <td>581587</td>\n",
       "      <td>22138</td>\n",
       "      <td>BAKING SET 9 PIECE RETROSPOT</td>\n",
       "      <td>3</td>\n",
       "      <td>12-09-2011 12:50</td>\n",
       "      <td>4.95</td>\n",
       "      <td>12680.0</td>\n",
       "      <td>France</td>\n",
       "    </tr>\n",
       "  </tbody>\n",
       "</table>\n",
       "<p>541909 rows × 8 columns</p>\n",
       "</div>"
      ],
      "text/plain": [
       "       InvoiceNo StockCode                          Description  Quantity  \\\n",
       "0         536365    85123A   WHITE HANGING HEART T-LIGHT HOLDER         6   \n",
       "1         536365     71053                  WHITE METAL LANTERN         6   \n",
       "2         536365    84406B       CREAM CUPID HEARTS COAT HANGER         8   \n",
       "3         536365    84029G  KNITTED UNION FLAG HOT WATER BOTTLE         6   \n",
       "4         536365    84029E       RED WOOLLY HOTTIE WHITE HEART.         6   \n",
       "...          ...       ...                                  ...       ...   \n",
       "541904    581587     22613          PACK OF 20 SPACEBOY NAPKINS        12   \n",
       "541905    581587     22899         CHILDREN'S APRON DOLLY GIRL          6   \n",
       "541906    581587     23254        CHILDRENS CUTLERY DOLLY GIRL          4   \n",
       "541907    581587     23255      CHILDRENS CUTLERY CIRCUS PARADE         4   \n",
       "541908    581587     22138        BAKING SET 9 PIECE RETROSPOT          3   \n",
       "\n",
       "             InvoiceDate  UnitPrice  CustomerID         Country  \n",
       "0       12-01-2010 08:26       2.55     17850.0  United Kingdom  \n",
       "1       12-01-2010 08:26       3.39     17850.0  United Kingdom  \n",
       "2       12-01-2010 08:26       2.75     17850.0  United Kingdom  \n",
       "3       12-01-2010 08:26       3.39     17850.0  United Kingdom  \n",
       "4       12-01-2010 08:26       3.39     17850.0  United Kingdom  \n",
       "...                  ...        ...         ...             ...  \n",
       "541904  12-09-2011 12:50       0.85     12680.0          France  \n",
       "541905  12-09-2011 12:50       2.10     12680.0          France  \n",
       "541906  12-09-2011 12:50       4.15     12680.0          France  \n",
       "541907  12-09-2011 12:50       4.15     12680.0          France  \n",
       "541908  12-09-2011 12:50       4.95     12680.0          France  \n",
       "\n",
       "[541909 rows x 8 columns]"
      ]
     },
     "execution_count": 55,
     "metadata": {},
     "output_type": "execute_result"
    }
   ],
   "source": [
    "data"
   ]
  },
  {
   "cell_type": "code",
   "execution_count": 56,
   "metadata": {},
   "outputs": [],
   "source": [
    "df= data.copy()"
   ]
  },
  {
   "cell_type": "code",
   "execution_count": 57,
   "metadata": {},
   "outputs": [
    {
     "name": "stdout",
     "output_type": "stream",
     "text": [
      "<class 'pandas.core.frame.DataFrame'>\n",
      "RangeIndex: 541909 entries, 0 to 541908\n",
      "Data columns (total 8 columns):\n",
      " #   Column       Non-Null Count   Dtype  \n",
      "---  ------       --------------   -----  \n",
      " 0   InvoiceNo    541909 non-null  object \n",
      " 1   StockCode    541909 non-null  object \n",
      " 2   Description  540455 non-null  object \n",
      " 3   Quantity     541909 non-null  int64  \n",
      " 4   InvoiceDate  541909 non-null  object \n",
      " 5   UnitPrice    541909 non-null  float64\n",
      " 6   CustomerID   406829 non-null  float64\n",
      " 7   Country      541909 non-null  object \n",
      "dtypes: float64(2), int64(1), object(5)\n",
      "memory usage: 33.1+ MB\n"
     ]
    }
   ],
   "source": [
    "df.info()"
   ]
  },
  {
   "cell_type": "code",
   "execution_count": 58,
   "metadata": {},
   "outputs": [
    {
     "data": {
      "text/html": [
       "<div>\n",
       "<style scoped>\n",
       "    .dataframe tbody tr th:only-of-type {\n",
       "        vertical-align: middle;\n",
       "    }\n",
       "\n",
       "    .dataframe tbody tr th {\n",
       "        vertical-align: top;\n",
       "    }\n",
       "\n",
       "    .dataframe thead th {\n",
       "        text-align: right;\n",
       "    }\n",
       "</style>\n",
       "<table border=\"1\" class=\"dataframe\">\n",
       "  <thead>\n",
       "    <tr style=\"text-align: right;\">\n",
       "      <th></th>\n",
       "      <th>Quantity</th>\n",
       "      <th>UnitPrice</th>\n",
       "      <th>CustomerID</th>\n",
       "    </tr>\n",
       "  </thead>\n",
       "  <tbody>\n",
       "    <tr>\n",
       "      <th>count</th>\n",
       "      <td>541909.000000</td>\n",
       "      <td>541909.000000</td>\n",
       "      <td>406829.000000</td>\n",
       "    </tr>\n",
       "    <tr>\n",
       "      <th>mean</th>\n",
       "      <td>9.552250</td>\n",
       "      <td>4.611114</td>\n",
       "      <td>15287.690570</td>\n",
       "    </tr>\n",
       "    <tr>\n",
       "      <th>std</th>\n",
       "      <td>218.081158</td>\n",
       "      <td>96.759853</td>\n",
       "      <td>1713.600303</td>\n",
       "    </tr>\n",
       "    <tr>\n",
       "      <th>min</th>\n",
       "      <td>-80995.000000</td>\n",
       "      <td>-11062.060000</td>\n",
       "      <td>12346.000000</td>\n",
       "    </tr>\n",
       "    <tr>\n",
       "      <th>25%</th>\n",
       "      <td>1.000000</td>\n",
       "      <td>1.250000</td>\n",
       "      <td>13953.000000</td>\n",
       "    </tr>\n",
       "    <tr>\n",
       "      <th>50%</th>\n",
       "      <td>3.000000</td>\n",
       "      <td>2.080000</td>\n",
       "      <td>15152.000000</td>\n",
       "    </tr>\n",
       "    <tr>\n",
       "      <th>75%</th>\n",
       "      <td>10.000000</td>\n",
       "      <td>4.130000</td>\n",
       "      <td>16791.000000</td>\n",
       "    </tr>\n",
       "    <tr>\n",
       "      <th>max</th>\n",
       "      <td>80995.000000</td>\n",
       "      <td>38970.000000</td>\n",
       "      <td>18287.000000</td>\n",
       "    </tr>\n",
       "  </tbody>\n",
       "</table>\n",
       "</div>"
      ],
      "text/plain": [
       "            Quantity      UnitPrice     CustomerID\n",
       "count  541909.000000  541909.000000  406829.000000\n",
       "mean        9.552250       4.611114   15287.690570\n",
       "std       218.081158      96.759853    1713.600303\n",
       "min    -80995.000000  -11062.060000   12346.000000\n",
       "25%         1.000000       1.250000   13953.000000\n",
       "50%         3.000000       2.080000   15152.000000\n",
       "75%        10.000000       4.130000   16791.000000\n",
       "max     80995.000000   38970.000000   18287.000000"
      ]
     },
     "execution_count": 58,
     "metadata": {},
     "output_type": "execute_result"
    }
   ],
   "source": [
    "df.describe()"
   ]
  },
  {
   "cell_type": "code",
   "execution_count": 59,
   "metadata": {},
   "outputs": [
    {
     "data": {
      "text/plain": [
       "<Axes: ylabel='UnitPrice'>"
      ]
     },
     "execution_count": 59,
     "metadata": {},
     "output_type": "execute_result"
    },
    {
     "data": {
      "image/png": "[encoded data removed]",
      "text/plain": [
       "<Figure size 640x480 with 1 Axes>"
      ]
     },
     "metadata": {},
     "output_type": "display_data"
    }
   ],
   "source": [
    "sns.violinplot(df.UnitPrice)"
   ]
  },
  {
   "cell_type": "code",
   "execution_count": 60,
   "metadata": {},
   "outputs": [
    {
     "data": {
      "text/plain": [
       "count    539392.000000\n",
       "mean          4.673648\n",
       "std          94.614722\n",
       "min           0.001000\n",
       "25%           1.250000\n",
       "50%           2.080000\n",
       "75%           4.130000\n",
       "max       38970.000000\n",
       "Name: UnitPrice, dtype: float64"
      ]
     },
     "execution_count": 60,
     "metadata": {},
     "output_type": "execute_result"
    }
   ],
   "source": [
    "df= df[df['UnitPrice']>0]\n",
    "df.UnitPrice.describe()"
   ]
  },
  {
   "cell_type": "code",
   "execution_count": 61,
   "metadata": {},
   "outputs": [
    {
     "data": {
      "text/plain": [
       "count    530104.000000\n",
       "mean         10.542037\n",
       "std         155.524124\n",
       "min           1.000000\n",
       "25%           1.000000\n",
       "50%           3.000000\n",
       "75%          10.000000\n",
       "max       80995.000000\n",
       "Name: Quantity, dtype: float64"
      ]
     },
     "execution_count": 61,
     "metadata": {},
     "output_type": "execute_result"
    }
   ],
   "source": [
    "df= df[df['Quantity']>0]\n",
    "df.Quantity.describe()"
   ]
  },
  {
   "cell_type": "code",
   "execution_count": 62,
   "metadata": {},
   "outputs": [
    {
     "data": {
      "text/plain": [
       "InvoiceNo           0\n",
       "StockCode           0\n",
       "Description         0\n",
       "Quantity            0\n",
       "InvoiceDate         0\n",
       "UnitPrice           0\n",
       "CustomerID     132220\n",
       "Country             0\n",
       "dtype: int64"
      ]
     },
     "execution_count": 62,
     "metadata": {},
     "output_type": "execute_result"
    }
   ],
   "source": [
    "df.isnull().sum()"
   ]
  },
  {
   "cell_type": "code",
   "execution_count": 63,
   "metadata": {},
   "outputs": [],
   "source": [
    "df.dropna(subset='CustomerID', how='all', inplace=True)"
   ]
  },
  {
   "cell_type": "code",
   "execution_count": 64,
   "metadata": {},
   "outputs": [
    {
     "data": {
      "text/plain": [
       "InvoiceNo      0\n",
       "StockCode      0\n",
       "Description    0\n",
       "Quantity       0\n",
       "InvoiceDate    0\n",
       "UnitPrice      0\n",
       "CustomerID     0\n",
       "Country        0\n",
       "dtype: int64"
      ]
     },
     "execution_count": 64,
     "metadata": {},
     "output_type": "execute_result"
    }
   ],
   "source": [
    "df.isna().sum()"
   ]
  },
  {
   "cell_type": "code",
   "execution_count": 65,
   "metadata": {},
   "outputs": [
    {
     "data": {
      "text/plain": [
       "'9/30/2011 9:45'"
      ]
     },
     "execution_count": 65,
     "metadata": {},
     "output_type": "execute_result"
    }
   ],
   "source": [
    "df['InvoiceDate'].max()"
   ]
  },
  {
   "cell_type": "code",
   "execution_count": 66,
   "metadata": {},
   "outputs": [],
   "source": [
    "import datetime as dt\n",
    "now= dt.date(2011,12,30)"
   ]
  },
  {
   "cell_type": "code",
   "execution_count": 67,
   "metadata": {},
   "outputs": [],
   "source": [
    "df['date']= pd.DatetimeIndex(df.InvoiceDate).date"
   ]
  },
  {
   "cell_type": "code",
   "execution_count": 68,
   "metadata": {},
   "outputs": [
    {
     "data": {
      "text/html": [
       "<div>\n",
       "<style scoped>\n",
       "    .dataframe tbody tr th:only-of-type {\n",
       "        vertical-align: middle;\n",
       "    }\n",
       "\n",
       "    .dataframe tbody tr th {\n",
       "        vertical-align: top;\n",
       "    }\n",
       "\n",
       "    .dataframe thead th {\n",
       "        text-align: right;\n",
       "    }\n",
       "</style>\n",
       "<table border=\"1\" class=\"dataframe\">\n",
       "  <thead>\n",
       "    <tr style=\"text-align: right;\">\n",
       "      <th></th>\n",
       "      <th>InvoiceNo</th>\n",
       "      <th>StockCode</th>\n",
       "      <th>Description</th>\n",
       "      <th>Quantity</th>\n",
       "      <th>InvoiceDate</th>\n",
       "      <th>UnitPrice</th>\n",
       "      <th>CustomerID</th>\n",
       "      <th>Country</th>\n",
       "      <th>date</th>\n",
       "    </tr>\n",
       "  </thead>\n",
       "  <tbody>\n",
       "    <tr>\n",
       "      <th>0</th>\n",
       "      <td>536365</td>\n",
       "      <td>85123A</td>\n",
       "      <td>WHITE HANGING HEART T-LIGHT HOLDER</td>\n",
       "      <td>6</td>\n",
       "      <td>12-01-2010 08:26</td>\n",
       "      <td>2.55</td>\n",
       "      <td>17850.0</td>\n",
       "      <td>United Kingdom</td>\n",
       "      <td>2010-12-01</td>\n",
       "    </tr>\n",
       "    <tr>\n",
       "      <th>1</th>\n",
       "      <td>536365</td>\n",
       "      <td>71053</td>\n",
       "      <td>WHITE METAL LANTERN</td>\n",
       "      <td>6</td>\n",
       "      <td>12-01-2010 08:26</td>\n",
       "      <td>3.39</td>\n",
       "      <td>17850.0</td>\n",
       "      <td>United Kingdom</td>\n",
       "      <td>2010-12-01</td>\n",
       "    </tr>\n",
       "    <tr>\n",
       "      <th>2</th>\n",
       "      <td>536365</td>\n",
       "      <td>84406B</td>\n",
       "      <td>CREAM CUPID HEARTS COAT HANGER</td>\n",
       "      <td>8</td>\n",
       "      <td>12-01-2010 08:26</td>\n",
       "      <td>2.75</td>\n",
       "      <td>17850.0</td>\n",
       "      <td>United Kingdom</td>\n",
       "      <td>2010-12-01</td>\n",
       "    </tr>\n",
       "    <tr>\n",
       "      <th>3</th>\n",
       "      <td>536365</td>\n",
       "      <td>84029G</td>\n",
       "      <td>KNITTED UNION FLAG HOT WATER BOTTLE</td>\n",
       "      <td>6</td>\n",
       "      <td>12-01-2010 08:26</td>\n",
       "      <td>3.39</td>\n",
       "      <td>17850.0</td>\n",
       "      <td>United Kingdom</td>\n",
       "      <td>2010-12-01</td>\n",
       "    </tr>\n",
       "    <tr>\n",
       "      <th>4</th>\n",
       "      <td>536365</td>\n",
       "      <td>84029E</td>\n",
       "      <td>RED WOOLLY HOTTIE WHITE HEART.</td>\n",
       "      <td>6</td>\n",
       "      <td>12-01-2010 08:26</td>\n",
       "      <td>3.39</td>\n",
       "      <td>17850.0</td>\n",
       "      <td>United Kingdom</td>\n",
       "      <td>2010-12-01</td>\n",
       "    </tr>\n",
       "  </tbody>\n",
       "</table>\n",
       "</div>"
      ],
      "text/plain": [
       "  InvoiceNo StockCode                          Description  Quantity  \\\n",
       "0    536365    85123A   WHITE HANGING HEART T-LIGHT HOLDER         6   \n",
       "1    536365     71053                  WHITE METAL LANTERN         6   \n",
       "2    536365    84406B       CREAM CUPID HEARTS COAT HANGER         8   \n",
       "3    536365    84029G  KNITTED UNION FLAG HOT WATER BOTTLE         6   \n",
       "4    536365    84029E       RED WOOLLY HOTTIE WHITE HEART.         6   \n",
       "\n",
       "        InvoiceDate  UnitPrice  CustomerID         Country        date  \n",
       "0  12-01-2010 08:26       2.55     17850.0  United Kingdom  2010-12-01  \n",
       "1  12-01-2010 08:26       3.39     17850.0  United Kingdom  2010-12-01  \n",
       "2  12-01-2010 08:26       2.75     17850.0  United Kingdom  2010-12-01  \n",
       "3  12-01-2010 08:26       3.39     17850.0  United Kingdom  2010-12-01  \n",
       "4  12-01-2010 08:26       3.39     17850.0  United Kingdom  2010-12-01  "
      ]
     },
     "execution_count": 68,
     "metadata": {},
     "output_type": "execute_result"
    }
   ],
   "source": [
    "df.head()"
   ]
  },
  {
   "cell_type": "code",
   "execution_count": 69,
   "metadata": {},
   "outputs": [
    {
     "data": {
      "text/html": [
       "<div>\n",
       "<style scoped>\n",
       "    .dataframe tbody tr th:only-of-type {\n",
       "        vertical-align: middle;\n",
       "    }\n",
       "\n",
       "    .dataframe tbody tr th {\n",
       "        vertical-align: top;\n",
       "    }\n",
       "\n",
       "    .dataframe thead th {\n",
       "        text-align: right;\n",
       "    }\n",
       "</style>\n",
       "<table border=\"1\" class=\"dataframe\">\n",
       "  <thead>\n",
       "    <tr style=\"text-align: right;\">\n",
       "      <th></th>\n",
       "      <th>CustomerID</th>\n",
       "      <th>LastPurchaseDate</th>\n",
       "    </tr>\n",
       "  </thead>\n",
       "  <tbody>\n",
       "    <tr>\n",
       "      <th>0</th>\n",
       "      <td>12346.0</td>\n",
       "      <td>2011-01-18</td>\n",
       "    </tr>\n",
       "    <tr>\n",
       "      <th>1</th>\n",
       "      <td>12347.0</td>\n",
       "      <td>2011-12-07</td>\n",
       "    </tr>\n",
       "    <tr>\n",
       "      <th>2</th>\n",
       "      <td>12348.0</td>\n",
       "      <td>2011-09-25</td>\n",
       "    </tr>\n",
       "    <tr>\n",
       "      <th>3</th>\n",
       "      <td>12349.0</td>\n",
       "      <td>2011-11-21</td>\n",
       "    </tr>\n",
       "    <tr>\n",
       "      <th>4</th>\n",
       "      <td>12350.0</td>\n",
       "      <td>2011-02-02</td>\n",
       "    </tr>\n",
       "  </tbody>\n",
       "</table>\n",
       "</div>"
      ],
      "text/plain": [
       "   CustomerID LastPurchaseDate\n",
       "0     12346.0       2011-01-18\n",
       "1     12347.0       2011-12-07\n",
       "2     12348.0       2011-09-25\n",
       "3     12349.0       2011-11-21\n",
       "4     12350.0       2011-02-02"
      ]
     },
     "execution_count": 69,
     "metadata": {},
     "output_type": "execute_result"
    }
   ],
   "source": [
    "#group by customer by last date they purchased...\n",
    "\n",
    "recency_df= df.groupby(['CustomerID'], as_index=False)['date'].max()\n",
    "recency_df.columns= ['CustomerID', 'LastPurchaseDate']\n",
    "recency_df.head()"
   ]
  },
  {
   "cell_type": "code",
   "execution_count": 70,
   "metadata": {},
   "outputs": [],
   "source": [
    "#calculate how often he is purchasing with reference to latest date in days..\n",
    "\n",
    "recency_df['Recency']= recency_df.LastPurchaseDate.apply(lambda x: (now - x).days)"
   ]
  },
  {
   "cell_type": "code",
   "execution_count": 71,
   "metadata": {},
   "outputs": [
    {
     "data": {
      "text/html": [
       "<div>\n",
       "<style scoped>\n",
       "    .dataframe tbody tr th:only-of-type {\n",
       "        vertical-align: middle;\n",
       "    }\n",
       "\n",
       "    .dataframe tbody tr th {\n",
       "        vertical-align: top;\n",
       "    }\n",
       "\n",
       "    .dataframe thead th {\n",
       "        text-align: right;\n",
       "    }\n",
       "</style>\n",
       "<table border=\"1\" class=\"dataframe\">\n",
       "  <thead>\n",
       "    <tr style=\"text-align: right;\">\n",
       "      <th></th>\n",
       "      <th>CustomerID</th>\n",
       "      <th>LastPurchaseDate</th>\n",
       "      <th>Recency</th>\n",
       "    </tr>\n",
       "  </thead>\n",
       "  <tbody>\n",
       "    <tr>\n",
       "      <th>0</th>\n",
       "      <td>12346.0</td>\n",
       "      <td>2011-01-18</td>\n",
       "      <td>346</td>\n",
       "    </tr>\n",
       "    <tr>\n",
       "      <th>1</th>\n",
       "      <td>12347.0</td>\n",
       "      <td>2011-12-07</td>\n",
       "      <td>23</td>\n",
       "    </tr>\n",
       "    <tr>\n",
       "      <th>2</th>\n",
       "      <td>12348.0</td>\n",
       "      <td>2011-09-25</td>\n",
       "      <td>96</td>\n",
       "    </tr>\n",
       "    <tr>\n",
       "      <th>3</th>\n",
       "      <td>12349.0</td>\n",
       "      <td>2011-11-21</td>\n",
       "      <td>39</td>\n",
       "    </tr>\n",
       "    <tr>\n",
       "      <th>4</th>\n",
       "      <td>12350.0</td>\n",
       "      <td>2011-02-02</td>\n",
       "      <td>331</td>\n",
       "    </tr>\n",
       "  </tbody>\n",
       "</table>\n",
       "</div>"
      ],
      "text/plain": [
       "   CustomerID LastPurchaseDate  Recency\n",
       "0     12346.0       2011-01-18      346\n",
       "1     12347.0       2011-12-07       23\n",
       "2     12348.0       2011-09-25       96\n",
       "3     12349.0       2011-11-21       39\n",
       "4     12350.0       2011-02-02      331"
      ]
     },
     "execution_count": 71,
     "metadata": {},
     "output_type": "execute_result"
    }
   ],
   "source": [
    "recency_df.head()"
   ]
  },
  {
   "cell_type": "code",
   "execution_count": 72,
   "metadata": {},
   "outputs": [],
   "source": [
    "recency_df.drop(columns=['LastPurchaseDate'], inplace=True)"
   ]
  },
  {
   "cell_type": "code",
   "execution_count": 73,
   "metadata": {},
   "outputs": [
    {
     "data": {
      "text/html": [
       "<div>\n",
       "<style scoped>\n",
       "    .dataframe tbody tr th:only-of-type {\n",
       "        vertical-align: middle;\n",
       "    }\n",
       "\n",
       "    .dataframe tbody tr th {\n",
       "        vertical-align: top;\n",
       "    }\n",
       "\n",
       "    .dataframe thead th {\n",
       "        text-align: right;\n",
       "    }\n",
       "</style>\n",
       "<table border=\"1\" class=\"dataframe\">\n",
       "  <thead>\n",
       "    <tr style=\"text-align: right;\">\n",
       "      <th></th>\n",
       "      <th>CustomerID</th>\n",
       "      <th>Frequency</th>\n",
       "    </tr>\n",
       "  </thead>\n",
       "  <tbody>\n",
       "    <tr>\n",
       "      <th>0</th>\n",
       "      <td>12346.0</td>\n",
       "      <td>1</td>\n",
       "    </tr>\n",
       "    <tr>\n",
       "      <th>1</th>\n",
       "      <td>12347.0</td>\n",
       "      <td>7</td>\n",
       "    </tr>\n",
       "    <tr>\n",
       "      <th>2</th>\n",
       "      <td>12348.0</td>\n",
       "      <td>4</td>\n",
       "    </tr>\n",
       "    <tr>\n",
       "      <th>3</th>\n",
       "      <td>12349.0</td>\n",
       "      <td>1</td>\n",
       "    </tr>\n",
       "    <tr>\n",
       "      <th>4</th>\n",
       "      <td>12350.0</td>\n",
       "      <td>1</td>\n",
       "    </tr>\n",
       "  </tbody>\n",
       "</table>\n",
       "</div>"
      ],
      "text/plain": [
       "   CustomerID  Frequency\n",
       "0     12346.0          1\n",
       "1     12347.0          7\n",
       "2     12348.0          4\n",
       "3     12349.0          1\n",
       "4     12350.0          1"
      ]
     },
     "execution_count": 73,
     "metadata": {},
     "output_type": "execute_result"
    }
   ],
   "source": [
    "#check frequency of customer means how many transaction has been done..\n",
    "\n",
    "frequency_df= df.copy()\n",
    "frequency_df.drop_duplicates(subset=['CustomerID', 'InvoiceNo'], keep='first', inplace=True)\n",
    "frequency_df = frequency_df.groupby('CustomerID', as_index=False)['InvoiceNo'].count()\n",
    "frequency_df.columns= ['CustomerID','Frequency']\n",
    "frequency_df.head()"
   ]
  },
  {
   "cell_type": "code",
   "execution_count": 74,
   "metadata": {},
   "outputs": [],
   "source": [
    "#calculate how much a customer spend in the each transaction...\n",
    "\n",
    "df['Total_Cost']= df['Quantity'] * df['UnitPrice']"
   ]
  },
  {
   "cell_type": "code",
   "execution_count": 75,
   "metadata": {},
   "outputs": [
    {
     "data": {
      "text/html": [
       "<div>\n",
       "<style scoped>\n",
       "    .dataframe tbody tr th:only-of-type {\n",
       "        vertical-align: middle;\n",
       "    }\n",
       "\n",
       "    .dataframe tbody tr th {\n",
       "        vertical-align: top;\n",
       "    }\n",
       "\n",
       "    .dataframe thead th {\n",
       "        text-align: right;\n",
       "    }\n",
       "</style>\n",
       "<table border=\"1\" class=\"dataframe\">\n",
       "  <thead>\n",
       "    <tr style=\"text-align: right;\">\n",
       "      <th></th>\n",
       "      <th>CustomerID</th>\n",
       "      <th>Monetary</th>\n",
       "    </tr>\n",
       "  </thead>\n",
       "  <tbody>\n",
       "    <tr>\n",
       "      <th>0</th>\n",
       "      <td>12346.0</td>\n",
       "      <td>77183.60</td>\n",
       "    </tr>\n",
       "    <tr>\n",
       "      <th>1</th>\n",
       "      <td>12347.0</td>\n",
       "      <td>4310.00</td>\n",
       "    </tr>\n",
       "    <tr>\n",
       "      <th>2</th>\n",
       "      <td>12348.0</td>\n",
       "      <td>1797.24</td>\n",
       "    </tr>\n",
       "    <tr>\n",
       "      <th>3</th>\n",
       "      <td>12349.0</td>\n",
       "      <td>1757.55</td>\n",
       "    </tr>\n",
       "    <tr>\n",
       "      <th>4</th>\n",
       "      <td>12350.0</td>\n",
       "      <td>334.40</td>\n",
       "    </tr>\n",
       "  </tbody>\n",
       "</table>\n",
       "</div>"
      ],
      "text/plain": [
       "   CustomerID  Monetary\n",
       "0     12346.0  77183.60\n",
       "1     12347.0   4310.00\n",
       "2     12348.0   1797.24\n",
       "3     12349.0   1757.55\n",
       "4     12350.0    334.40"
      ]
     },
     "execution_count": 75,
     "metadata": {},
     "output_type": "execute_result"
    }
   ],
   "source": [
    "#check summed up spend of a customer with respect to latest date..\n",
    "\n",
    "monetary_df= df.groupby('CustomerID', as_index=False)['Total_Cost'].sum()\n",
    "monetary_df.columns= ['CustomerID','Monetary']\n",
    "monetary_df.head()"
   ]
  },
  {
   "cell_type": "code",
   "execution_count": 76,
   "metadata": {},
   "outputs": [],
   "source": [
    "#Combine all together all dataframe in so we have recency, frequency and monetary values together\n",
    "\n",
    "rf= recency_df.merge(frequency_df, left_on='CustomerID', right_on='CustomerID')\n",
    "\n",
    "rfm= rf.merge(monetary_df, left_on='CustomerID', right_on='CustomerID')\n",
    "\n",
    "rfm.set_index('CustomerID', inplace=True)"
   ]
  },
  {
   "cell_type": "code",
   "execution_count": 77,
   "metadata": {},
   "outputs": [
    {
     "data": {
      "text/html": [
       "<div>\n",
       "<style scoped>\n",
       "    .dataframe tbody tr th:only-of-type {\n",
       "        vertical-align: middle;\n",
       "    }\n",
       "\n",
       "    .dataframe tbody tr th {\n",
       "        vertical-align: top;\n",
       "    }\n",
       "\n",
       "    .dataframe thead th {\n",
       "        text-align: right;\n",
       "    }\n",
       "</style>\n",
       "<table border=\"1\" class=\"dataframe\">\n",
       "  <thead>\n",
       "    <tr style=\"text-align: right;\">\n",
       "      <th></th>\n",
       "      <th>Recency</th>\n",
       "      <th>Frequency</th>\n",
       "      <th>Monetary</th>\n",
       "    </tr>\n",
       "    <tr>\n",
       "      <th>CustomerID</th>\n",
       "      <th></th>\n",
       "      <th></th>\n",
       "      <th></th>\n",
       "    </tr>\n",
       "  </thead>\n",
       "  <tbody>\n",
       "    <tr>\n",
       "      <th>12346.0</th>\n",
       "      <td>346</td>\n",
       "      <td>1</td>\n",
       "      <td>77183.60</td>\n",
       "    </tr>\n",
       "    <tr>\n",
       "      <th>12347.0</th>\n",
       "      <td>23</td>\n",
       "      <td>7</td>\n",
       "      <td>4310.00</td>\n",
       "    </tr>\n",
       "    <tr>\n",
       "      <th>12348.0</th>\n",
       "      <td>96</td>\n",
       "      <td>4</td>\n",
       "      <td>1797.24</td>\n",
       "    </tr>\n",
       "    <tr>\n",
       "      <th>12349.0</th>\n",
       "      <td>39</td>\n",
       "      <td>1</td>\n",
       "      <td>1757.55</td>\n",
       "    </tr>\n",
       "    <tr>\n",
       "      <th>12350.0</th>\n",
       "      <td>331</td>\n",
       "      <td>1</td>\n",
       "      <td>334.40</td>\n",
       "    </tr>\n",
       "  </tbody>\n",
       "</table>\n",
       "</div>"
      ],
      "text/plain": [
       "            Recency  Frequency  Monetary\n",
       "CustomerID                              \n",
       "12346.0         346          1  77183.60\n",
       "12347.0          23          7   4310.00\n",
       "12348.0          96          4   1797.24\n",
       "12349.0          39          1   1757.55\n",
       "12350.0         331          1    334.40"
      ]
     },
     "execution_count": 77,
     "metadata": {},
     "output_type": "execute_result"
    }
   ],
   "source": [
    "rfm.head()"
   ]
  },
  {
   "cell_type": "code",
   "execution_count": 78,
   "metadata": {},
   "outputs": [],
   "source": [
    "# Arguments (x = value, p = recency, monetary_value, frequency, d = quartiles dict)\n",
    "\n",
    "def RScore(x,p,d):\n",
    "    if x <=d[p][0.25]:\n",
    "        return 1\n",
    "    elif x <=d[p][0.50]:\n",
    "        return 2\n",
    "    elif x <= d[p][0.75]:\n",
    "        return 3\n",
    "    else:\n",
    "        return 4\n",
    "\n",
    "def FMScore(x, p, d):\n",
    "    if x<=d[p][0.25]:\n",
    "        return 4\n",
    "    elif x<=d[p][0.50]:\n",
    "        return 3\n",
    "    elif x<=d[p][0.75]:\n",
    "        return 2\n",
    "    else:\n",
    "        return 1\n",
    "    "
   ]
  },
  {
   "cell_type": "code",
   "execution_count": 79,
   "metadata": {},
   "outputs": [
    {
     "data": {
      "text/html": [
       "<div>\n",
       "<style scoped>\n",
       "    .dataframe tbody tr th:only-of-type {\n",
       "        vertical-align: middle;\n",
       "    }\n",
       "\n",
       "    .dataframe tbody tr th {\n",
       "        vertical-align: top;\n",
       "    }\n",
       "\n",
       "    .dataframe thead th {\n",
       "        text-align: right;\n",
       "    }\n",
       "</style>\n",
       "<table border=\"1\" class=\"dataframe\">\n",
       "  <thead>\n",
       "    <tr style=\"text-align: right;\">\n",
       "      <th></th>\n",
       "      <th>Recency</th>\n",
       "      <th>Frequency</th>\n",
       "      <th>Monetary</th>\n",
       "    </tr>\n",
       "  </thead>\n",
       "  <tbody>\n",
       "    <tr>\n",
       "      <th>0.25</th>\n",
       "      <td>38.00</td>\n",
       "      <td>1.0</td>\n",
       "      <td>307.415</td>\n",
       "    </tr>\n",
       "    <tr>\n",
       "      <th>0.50</th>\n",
       "      <td>71.00</td>\n",
       "      <td>2.0</td>\n",
       "      <td>674.485</td>\n",
       "    </tr>\n",
       "    <tr>\n",
       "      <th>0.75</th>\n",
       "      <td>162.75</td>\n",
       "      <td>5.0</td>\n",
       "      <td>1661.740</td>\n",
       "    </tr>\n",
       "  </tbody>\n",
       "</table>\n",
       "</div>"
      ],
      "text/plain": [
       "      Recency  Frequency  Monetary\n",
       "0.25    38.00        1.0   307.415\n",
       "0.50    71.00        2.0   674.485\n",
       "0.75   162.75        5.0  1661.740"
      ]
     },
     "execution_count": 79,
     "metadata": {},
     "output_type": "execute_result"
    }
   ],
   "source": [
    "'''\n",
    "quantile is like 25% , 50% and 75% level of values. example if we have 100 values first 25 in 1st quartile 25% \n",
    "then second contain next 25% which is 50% and there after next 25% which is 75% and 4th quartile is more than 75% \n",
    "values.\n",
    "'''\n",
    "\n",
    "qunatiles= rfm.quantile(q=[0.25,0.50,0.75])\n",
    "qunatiles"
   ]
  },
  {
   "cell_type": "code",
   "execution_count": 80,
   "metadata": {},
   "outputs": [
    {
     "data": {
      "text/html": [
       "<div>\n",
       "<style scoped>\n",
       "    .dataframe tbody tr th:only-of-type {\n",
       "        vertical-align: middle;\n",
       "    }\n",
       "\n",
       "    .dataframe tbody tr th {\n",
       "        vertical-align: top;\n",
       "    }\n",
       "\n",
       "    .dataframe thead th {\n",
       "        text-align: right;\n",
       "    }\n",
       "</style>\n",
       "<table border=\"1\" class=\"dataframe\">\n",
       "  <thead>\n",
       "    <tr style=\"text-align: right;\">\n",
       "      <th></th>\n",
       "      <th>Recency</th>\n",
       "      <th>Frequency</th>\n",
       "      <th>Monetary</th>\n",
       "    </tr>\n",
       "    <tr>\n",
       "      <th>CustomerID</th>\n",
       "      <th></th>\n",
       "      <th></th>\n",
       "      <th></th>\n",
       "    </tr>\n",
       "  </thead>\n",
       "  <tbody>\n",
       "    <tr>\n",
       "      <th>12346.0</th>\n",
       "      <td>346</td>\n",
       "      <td>1</td>\n",
       "      <td>77183.60</td>\n",
       "    </tr>\n",
       "    <tr>\n",
       "      <th>12347.0</th>\n",
       "      <td>23</td>\n",
       "      <td>7</td>\n",
       "      <td>4310.00</td>\n",
       "    </tr>\n",
       "    <tr>\n",
       "      <th>12348.0</th>\n",
       "      <td>96</td>\n",
       "      <td>4</td>\n",
       "      <td>1797.24</td>\n",
       "    </tr>\n",
       "    <tr>\n",
       "      <th>12349.0</th>\n",
       "      <td>39</td>\n",
       "      <td>1</td>\n",
       "      <td>1757.55</td>\n",
       "    </tr>\n",
       "    <tr>\n",
       "      <th>12350.0</th>\n",
       "      <td>331</td>\n",
       "      <td>1</td>\n",
       "      <td>334.40</td>\n",
       "    </tr>\n",
       "  </tbody>\n",
       "</table>\n",
       "</div>"
      ],
      "text/plain": [
       "            Recency  Frequency  Monetary\n",
       "CustomerID                              \n",
       "12346.0         346          1  77183.60\n",
       "12347.0          23          7   4310.00\n",
       "12348.0          96          4   1797.24\n",
       "12349.0          39          1   1757.55\n",
       "12350.0         331          1    334.40"
      ]
     },
     "execution_count": 80,
     "metadata": {},
     "output_type": "execute_result"
    }
   ],
   "source": [
    "rfm.head()"
   ]
  },
  {
   "cell_type": "code",
   "execution_count": 81,
   "metadata": {},
   "outputs": [],
   "source": [
    "rfm= rfm.reset_index()"
   ]
  },
  {
   "cell_type": "code",
   "execution_count": 82,
   "metadata": {},
   "outputs": [],
   "source": [
    "rfm.to_csv('data/rfm_data.csv', index=False)"
   ]
  },
  {
   "cell_type": "code",
   "execution_count": 83,
   "metadata": {},
   "outputs": [],
   "source": [
    "rfm_segmentation= rfm.copy()"
   ]
  },
  {
   "cell_type": "code",
   "execution_count": 84,
   "metadata": {},
   "outputs": [],
   "source": [
    "rfm_segmentation['R_Quartile'] = rfm_segmentation['Recency'].apply(RScore, args=('Recency', qunatiles))\n",
    "\n",
    "rfm_segmentation['F_Quartile'] = rfm_segmentation['Frequency'].apply(FMScore, args=('Frequency', qunatiles))\n",
    "\n",
    "rfm_segmentation['M_Quartile'] = rfm_segmentation['Monetary'].apply(FMScore, args=('Monetary', qunatiles))"
   ]
  },
  {
   "cell_type": "code",
   "execution_count": 85,
   "metadata": {},
   "outputs": [
    {
     "data": {
      "text/plain": [
       "{'Recency': {0.25: 38.0, 0.5: 71.0, 0.75: 162.75},\n",
       " 'Frequency': {0.25: 1.0, 0.5: 2.0, 0.75: 5.0},\n",
       " 'Monetary': {0.25: 307.41499999999996,\n",
       "  0.5: 674.485,\n",
       "  0.75: 1661.7400000000002}}"
      ]
     },
     "execution_count": 85,
     "metadata": {},
     "output_type": "execute_result"
    }
   ],
   "source": [
    "qunatiles.to_dict()"
   ]
  },
  {
   "cell_type": "code",
   "execution_count": 86,
   "metadata": {},
   "outputs": [
    {
     "data": {
      "text/html": [
       "<div>\n",
       "<style scoped>\n",
       "    .dataframe tbody tr th:only-of-type {\n",
       "        vertical-align: middle;\n",
       "    }\n",
       "\n",
       "    .dataframe tbody tr th {\n",
       "        vertical-align: top;\n",
       "    }\n",
       "\n",
       "    .dataframe thead th {\n",
       "        text-align: right;\n",
       "    }\n",
       "</style>\n",
       "<table border=\"1\" class=\"dataframe\">\n",
       "  <thead>\n",
       "    <tr style=\"text-align: right;\">\n",
       "      <th></th>\n",
       "      <th>CustomerID</th>\n",
       "      <th>Recency</th>\n",
       "      <th>Frequency</th>\n",
       "      <th>Monetary</th>\n",
       "      <th>R_Quartile</th>\n",
       "      <th>F_Quartile</th>\n",
       "      <th>M_Quartile</th>\n",
       "    </tr>\n",
       "  </thead>\n",
       "  <tbody>\n",
       "    <tr>\n",
       "      <th>0</th>\n",
       "      <td>12346.0</td>\n",
       "      <td>346</td>\n",
       "      <td>1</td>\n",
       "      <td>77183.60</td>\n",
       "      <td>4</td>\n",
       "      <td>4</td>\n",
       "      <td>1</td>\n",
       "    </tr>\n",
       "    <tr>\n",
       "      <th>1</th>\n",
       "      <td>12347.0</td>\n",
       "      <td>23</td>\n",
       "      <td>7</td>\n",
       "      <td>4310.00</td>\n",
       "      <td>1</td>\n",
       "      <td>1</td>\n",
       "      <td>1</td>\n",
       "    </tr>\n",
       "    <tr>\n",
       "      <th>2</th>\n",
       "      <td>12348.0</td>\n",
       "      <td>96</td>\n",
       "      <td>4</td>\n",
       "      <td>1797.24</td>\n",
       "      <td>3</td>\n",
       "      <td>2</td>\n",
       "      <td>1</td>\n",
       "    </tr>\n",
       "    <tr>\n",
       "      <th>3</th>\n",
       "      <td>12349.0</td>\n",
       "      <td>39</td>\n",
       "      <td>1</td>\n",
       "      <td>1757.55</td>\n",
       "      <td>2</td>\n",
       "      <td>4</td>\n",
       "      <td>1</td>\n",
       "    </tr>\n",
       "    <tr>\n",
       "      <th>4</th>\n",
       "      <td>12350.0</td>\n",
       "      <td>331</td>\n",
       "      <td>1</td>\n",
       "      <td>334.40</td>\n",
       "      <td>4</td>\n",
       "      <td>4</td>\n",
       "      <td>3</td>\n",
       "    </tr>\n",
       "  </tbody>\n",
       "</table>\n",
       "</div>"
      ],
      "text/plain": [
       "   CustomerID  Recency  Frequency  Monetary  R_Quartile  F_Quartile  \\\n",
       "0     12346.0      346          1  77183.60           4           4   \n",
       "1     12347.0       23          7   4310.00           1           1   \n",
       "2     12348.0       96          4   1797.24           3           2   \n",
       "3     12349.0       39          1   1757.55           2           4   \n",
       "4     12350.0      331          1    334.40           4           4   \n",
       "\n",
       "   M_Quartile  \n",
       "0           1  \n",
       "1           1  \n",
       "2           1  \n",
       "3           1  \n",
       "4           3  "
      ]
     },
     "execution_count": 86,
     "metadata": {},
     "output_type": "execute_result"
    }
   ],
   "source": [
    "rfm_segmentation.head()"
   ]
  },
  {
   "cell_type": "code",
   "execution_count": 87,
   "metadata": {},
   "outputs": [],
   "source": [
    "##combine the scores to create one score (eg. 4+1+1). This will create a score between 3 and 12.\n",
    "\n",
    "rfm_segmentation['RFM_Score']= rfm_segmentation['R_Quartile'] + rfm_segmentation['F_Quartile'] + rfm_segmentation['M_Quartile']"
   ]
  },
  {
   "cell_type": "code",
   "execution_count": 88,
   "metadata": {},
   "outputs": [
    {
     "data": {
      "text/html": [
       "<div>\n",
       "<style scoped>\n",
       "    .dataframe tbody tr th:only-of-type {\n",
       "        vertical-align: middle;\n",
       "    }\n",
       "\n",
       "    .dataframe tbody tr th {\n",
       "        vertical-align: top;\n",
       "    }\n",
       "\n",
       "    .dataframe thead th {\n",
       "        text-align: right;\n",
       "    }\n",
       "</style>\n",
       "<table border=\"1\" class=\"dataframe\">\n",
       "  <thead>\n",
       "    <tr style=\"text-align: right;\">\n",
       "      <th></th>\n",
       "      <th>CustomerID</th>\n",
       "      <th>Recency</th>\n",
       "      <th>Frequency</th>\n",
       "      <th>Monetary</th>\n",
       "      <th>R_Quartile</th>\n",
       "      <th>F_Quartile</th>\n",
       "      <th>M_Quartile</th>\n",
       "      <th>RFM_Score</th>\n",
       "    </tr>\n",
       "  </thead>\n",
       "  <tbody>\n",
       "    <tr>\n",
       "      <th>0</th>\n",
       "      <td>12346.0</td>\n",
       "      <td>346</td>\n",
       "      <td>1</td>\n",
       "      <td>77183.60</td>\n",
       "      <td>4</td>\n",
       "      <td>4</td>\n",
       "      <td>1</td>\n",
       "      <td>9</td>\n",
       "    </tr>\n",
       "    <tr>\n",
       "      <th>1</th>\n",
       "      <td>12347.0</td>\n",
       "      <td>23</td>\n",
       "      <td>7</td>\n",
       "      <td>4310.00</td>\n",
       "      <td>1</td>\n",
       "      <td>1</td>\n",
       "      <td>1</td>\n",
       "      <td>3</td>\n",
       "    </tr>\n",
       "    <tr>\n",
       "      <th>2</th>\n",
       "      <td>12348.0</td>\n",
       "      <td>96</td>\n",
       "      <td>4</td>\n",
       "      <td>1797.24</td>\n",
       "      <td>3</td>\n",
       "      <td>2</td>\n",
       "      <td>1</td>\n",
       "      <td>6</td>\n",
       "    </tr>\n",
       "    <tr>\n",
       "      <th>3</th>\n",
       "      <td>12349.0</td>\n",
       "      <td>39</td>\n",
       "      <td>1</td>\n",
       "      <td>1757.55</td>\n",
       "      <td>2</td>\n",
       "      <td>4</td>\n",
       "      <td>1</td>\n",
       "      <td>7</td>\n",
       "    </tr>\n",
       "    <tr>\n",
       "      <th>4</th>\n",
       "      <td>12350.0</td>\n",
       "      <td>331</td>\n",
       "      <td>1</td>\n",
       "      <td>334.40</td>\n",
       "      <td>4</td>\n",
       "      <td>4</td>\n",
       "      <td>3</td>\n",
       "      <td>11</td>\n",
       "    </tr>\n",
       "  </tbody>\n",
       "</table>\n",
       "</div>"
      ],
      "text/plain": [
       "   CustomerID  Recency  Frequency  Monetary  R_Quartile  F_Quartile  \\\n",
       "0     12346.0      346          1  77183.60           4           4   \n",
       "1     12347.0       23          7   4310.00           1           1   \n",
       "2     12348.0       96          4   1797.24           3           2   \n",
       "3     12349.0       39          1   1757.55           2           4   \n",
       "4     12350.0      331          1    334.40           4           4   \n",
       "\n",
       "   M_Quartile  RFM_Score  \n",
       "0           1          9  \n",
       "1           1          3  \n",
       "2           1          6  \n",
       "3           1          7  \n",
       "4           3         11  "
      ]
     },
     "execution_count": 88,
     "metadata": {},
     "output_type": "execute_result"
    }
   ],
   "source": [
    "rfm_segmentation.head()"
   ]
  },
  {
   "cell_type": "code",
   "execution_count": 89,
   "metadata": {},
   "outputs": [],
   "source": [
    "def segment(x):\n",
    "    if x<=5:\n",
    "        return 0 # Potential Loyal Customer\n",
    "    elif x<=10 & x>=6:\n",
    "        return 1 # Hibranating Customer\n",
    "    else:\n",
    "        return 2 # At-Risk Customer"
   ]
  },
  {
   "cell_type": "code",
   "execution_count": 90,
   "metadata": {},
   "outputs": [],
   "source": [
    "rfm_segmentation['Segmnet']= rfm_segmentation['RFM_Score'].apply(segment)"
   ]
  },
  {
   "cell_type": "code",
   "execution_count": 91,
   "metadata": {},
   "outputs": [
    {
     "data": {
      "text/html": [
       "<div>\n",
       "<style scoped>\n",
       "    .dataframe tbody tr th:only-of-type {\n",
       "        vertical-align: middle;\n",
       "    }\n",
       "\n",
       "    .dataframe tbody tr th {\n",
       "        vertical-align: top;\n",
       "    }\n",
       "\n",
       "    .dataframe thead th {\n",
       "        text-align: right;\n",
       "    }\n",
       "</style>\n",
       "<table border=\"1\" class=\"dataframe\">\n",
       "  <thead>\n",
       "    <tr style=\"text-align: right;\">\n",
       "      <th></th>\n",
       "      <th>CustomerID</th>\n",
       "      <th>Recency</th>\n",
       "      <th>Frequency</th>\n",
       "      <th>Monetary</th>\n",
       "      <th>R_Quartile</th>\n",
       "      <th>F_Quartile</th>\n",
       "      <th>M_Quartile</th>\n",
       "      <th>RFM_Score</th>\n",
       "      <th>Segmnet</th>\n",
       "    </tr>\n",
       "  </thead>\n",
       "  <tbody>\n",
       "    <tr>\n",
       "      <th>0</th>\n",
       "      <td>12346.0</td>\n",
       "      <td>346</td>\n",
       "      <td>1</td>\n",
       "      <td>77183.60</td>\n",
       "      <td>4</td>\n",
       "      <td>4</td>\n",
       "      <td>1</td>\n",
       "      <td>9</td>\n",
       "      <td>2</td>\n",
       "    </tr>\n",
       "    <tr>\n",
       "      <th>1</th>\n",
       "      <td>12347.0</td>\n",
       "      <td>23</td>\n",
       "      <td>7</td>\n",
       "      <td>4310.00</td>\n",
       "      <td>1</td>\n",
       "      <td>1</td>\n",
       "      <td>1</td>\n",
       "      <td>3</td>\n",
       "      <td>0</td>\n",
       "    </tr>\n",
       "    <tr>\n",
       "      <th>2</th>\n",
       "      <td>12348.0</td>\n",
       "      <td>96</td>\n",
       "      <td>4</td>\n",
       "      <td>1797.24</td>\n",
       "      <td>3</td>\n",
       "      <td>2</td>\n",
       "      <td>1</td>\n",
       "      <td>6</td>\n",
       "      <td>2</td>\n",
       "    </tr>\n",
       "    <tr>\n",
       "      <th>3</th>\n",
       "      <td>12349.0</td>\n",
       "      <td>39</td>\n",
       "      <td>1</td>\n",
       "      <td>1757.55</td>\n",
       "      <td>2</td>\n",
       "      <td>4</td>\n",
       "      <td>1</td>\n",
       "      <td>7</td>\n",
       "      <td>2</td>\n",
       "    </tr>\n",
       "    <tr>\n",
       "      <th>4</th>\n",
       "      <td>12350.0</td>\n",
       "      <td>331</td>\n",
       "      <td>1</td>\n",
       "      <td>334.40</td>\n",
       "      <td>4</td>\n",
       "      <td>4</td>\n",
       "      <td>3</td>\n",
       "      <td>11</td>\n",
       "      <td>2</td>\n",
       "    </tr>\n",
       "  </tbody>\n",
       "</table>\n",
       "</div>"
      ],
      "text/plain": [
       "   CustomerID  Recency  Frequency  Monetary  R_Quartile  F_Quartile  \\\n",
       "0     12346.0      346          1  77183.60           4           4   \n",
       "1     12347.0       23          7   4310.00           1           1   \n",
       "2     12348.0       96          4   1797.24           3           2   \n",
       "3     12349.0       39          1   1757.55           2           4   \n",
       "4     12350.0      331          1    334.40           4           4   \n",
       "\n",
       "   M_Quartile  RFM_Score  Segmnet  \n",
       "0           1          9        2  \n",
       "1           1          3        0  \n",
       "2           1          6        2  \n",
       "3           1          7        2  \n",
       "4           3         11        2  "
      ]
     },
     "execution_count": 91,
     "metadata": {},
     "output_type": "execute_result"
    }
   ],
   "source": [
    "rfm_segmentation.head()"
   ]
  },
  {
   "cell_type": "code",
   "execution_count": 92,
   "metadata": {},
   "outputs": [
    {
     "data": {
      "text/plain": [
       "<Axes: xlabel='Segmnet', ylabel='count'>"
      ]
     },
     "execution_count": 92,
     "metadata": {},
     "output_type": "execute_result"
    },
    {
     "data": {
      "image/png": "[encoded data removed]",
      "text/plain": [
       "<Figure size 640x480 with 1 Axes>"
      ]
     },
     "metadata": {},
     "output_type": "display_data"
    }
   ],
   "source": [
    "sns.countplot(x='Segmnet', data=rfm_segmentation)"
   ]
  },
  {
   "cell_type": "markdown",
   "metadata": {},
   "source": [
    "### Feature matrix (RFM values) and target (customer segment)\n"
   ]
  },
  {
   "cell_type": "code",
   "execution_count": 93,
   "metadata": {},
   "outputs": [
    {
     "data": {
      "text/plain": [
       "Index(['CustomerID', 'Recency', 'Frequency', 'Monetary', 'R_Quartile',\n",
       "       'F_Quartile', 'M_Quartile', 'RFM_Score', 'Segmnet'],\n",
       "      dtype='object')"
      ]
     },
     "execution_count": 93,
     "metadata": {},
     "output_type": "execute_result"
    }
   ],
   "source": [
    "rfm_segmentation.columns"
   ]
  },
  {
   "cell_type": "code",
   "execution_count": 94,
   "metadata": {},
   "outputs": [],
   "source": [
    "X= rfm_segmentation[['Recency','Frequency','Monetary']]\n",
    "y= rfm_segmentation['Segmnet']"
   ]
  },
  {
   "cell_type": "markdown",
   "metadata": {},
   "source": [
    "### Split the data into training and testing sets\n"
   ]
  },
  {
   "cell_type": "code",
   "execution_count": 95,
   "metadata": {},
   "outputs": [],
   "source": [
    "X_train, X_test,y_train,y_test= train_test_split(X, y, test_size=0.20, random_state=42, stratify=y)"
   ]
  },
  {
   "cell_type": "markdown",
   "metadata": {},
   "source": [
    "### Standardize the data (SVM and Logistic Regression often require this)"
   ]
  },
  {
   "cell_type": "code",
   "execution_count": 96,
   "metadata": {},
   "outputs": [],
   "source": [
    "scaler= StandardScaler()\n",
    "X_train_scaled= scaler.fit_transform(X_train)\n",
    "X_test_scaled= scaler.transform(X_test)"
   ]
  },
  {
   "cell_type": "markdown",
   "metadata": {},
   "source": [
    "## SVM"
   ]
  },
  {
   "cell_type": "code",
   "execution_count": 162,
   "metadata": {},
   "outputs": [
    {
     "data": {
      "text/html": [
       "<style>#sk-container-id-1 {color: black;}#sk-container-id-1 pre{padding: 0;}#sk-container-id-1 div.sk-toggleable {background-color: white;}#sk-container-id-1 label.sk-toggleable__label {cursor: pointer;display: block;width: 100%;margin-bottom: 0;padding: 0.3em;box-sizing: border-box;text-align: center;}#sk-container-id-1 label.sk-toggleable__label-arrow:before {content: \"▸\";float: left;margin-right: 0.25em;color: #696969;}#sk-container-id-1 label.sk-toggleable__label-arrow:hover:before {color: black;}#sk-container-id-1 div.sk-estimator:hover label.sk-toggleable__label-arrow:before {color: black;}#sk-container-id-1 div.sk-toggleable__content {max-height: 0;max-width: 0;overflow: hidden;text-align: left;background-color: #f0f8ff;}#sk-container-id-1 div.sk-toggleable__content pre {margin: 0.2em;color: black;border-radius: 0.25em;background-color: #f0f8ff;}#sk-container-id-1 input.sk-toggleable__control:checked~div.sk-toggleable__content {max-height: 200px;max-width: 100%;overflow: auto;}#sk-container-id-1 input.sk-toggleable__control:checked~label.sk-toggleable__label-arrow:before {content: \"▾\";}#sk-container-id-1 div.sk-estimator input.sk-toggleable__control:checked~label.sk-toggleable__label {background-color: #d4ebff;}#sk-container-id-1 div.sk-label input.sk-toggleable__control:checked~label.sk-toggleable__label {background-color: #d4ebff;}#sk-container-id-1 input.sk-hidden--visually {border: 0;clip: rect(1px 1px 1px 1px);clip: rect(1px, 1px, 1px, 1px);height: 1px;margin: -1px;overflow: hidden;padding: 0;position: absolute;width: 1px;}#sk-container-id-1 div.sk-estimator {font-family: monospace;background-color: #f0f8ff;border: 1px dotted black;border-radius: 0.25em;box-sizing: border-box;margin-bottom: 0.5em;}#sk-container-id-1 div.sk-estimator:hover {background-color: #d4ebff;}#sk-container-id-1 div.sk-parallel-item::after {content: \"\";width: 100%;border-bottom: 1px solid gray;flex-grow: 1;}#sk-container-id-1 div.sk-label:hover label.sk-toggleable__label {background-color: #d4ebff;}#sk-container-id-1 div.sk-serial::before {content: \"\";position: absolute;border-left: 1px solid gray;box-sizing: border-box;top: 0;bottom: 0;left: 50%;z-index: 0;}#sk-container-id-1 div.sk-serial {display: flex;flex-direction: column;align-items: center;background-color: white;padding-right: 0.2em;padding-left: 0.2em;position: relative;}#sk-container-id-1 div.sk-item {position: relative;z-index: 1;}#sk-container-id-1 div.sk-parallel {display: flex;align-items: stretch;justify-content: center;background-color: white;position: relative;}#sk-container-id-1 div.sk-item::before, #sk-container-id-1 div.sk-parallel-item::before {content: \"\";position: absolute;border-left: 1px solid gray;box-sizing: border-box;top: 0;bottom: 0;left: 50%;z-index: -1;}#sk-container-id-1 div.sk-parallel-item {display: flex;flex-direction: column;z-index: 1;position: relative;background-color: white;}#sk-container-id-1 div.sk-parallel-item:first-child::after {align-self: flex-end;width: 50%;}#sk-container-id-1 div.sk-parallel-item:last-child::after {align-self: flex-start;width: 50%;}#sk-container-id-1 div.sk-parallel-item:only-child::after {width: 0;}#sk-container-id-1 div.sk-dashed-wrapped {border: 1px dashed gray;margin: 0 0.4em 0.5em 0.4em;box-sizing: border-box;padding-bottom: 0.4em;background-color: white;}#sk-container-id-1 div.sk-label label {font-family: monospace;font-weight: bold;display: inline-block;line-height: 1.2em;}#sk-container-id-1 div.sk-label-container {text-align: center;}#sk-container-id-1 div.sk-container {/* jupyter's `normalize.less` sets `[hidden] { display: none; }` but bootstrap.min.css set `[hidden] { display: none !important; }` so we also need the `!important` here to be able to override the default hidden behavior on the sphinx rendered scikit-learn.org. See: https://github.com/scikit-learn/scikit-learn/issues/21755 */display: inline-block !important;position: relative;}#sk-container-id-1 div.sk-text-repr-fallback {display: none;}</style><div id=\"sk-container-id-1\" class=\"sk-top-container\"><div class=\"sk-text-repr-fallback\"><pre>SVC(kernel=&#x27;linear&#x27;, random_state=42)</pre><b>In a Jupyter environment, please rerun this cell to show the HTML representation or trust the notebook. <br />On GitHub, the HTML representation is unable to render, please try loading this page with nbviewer.org.</b></div><div class=\"sk-container\" hidden><div class=\"sk-item\"><div class=\"sk-estimator sk-toggleable\"><input class=\"sk-toggleable__control sk-hidden--visually\" id=\"sk-estimator-id-1\" type=\"checkbox\" checked><label for=\"sk-estimator-id-1\" class=\"sk-toggleable__label sk-toggleable__label-arrow\">SVC</label><div class=\"sk-toggleable__content\"><pre>SVC(kernel=&#x27;linear&#x27;, random_state=42)</pre></div></div></div></div></div>"
      ],
      "text/plain": [
       "SVC(kernel='linear', random_state=42)"
      ]
     },
     "execution_count": 162,
     "metadata": {},
     "output_type": "execute_result"
    }
   ],
   "source": [
    "svm_model= SVC(kernel='linear', random_state=42)\n",
    "svm_model.fit(X_train_scaled, y_train)"
   ]
  },
  {
   "cell_type": "code",
   "execution_count": 163,
   "metadata": {},
   "outputs": [],
   "source": [
    "svm_predict= svm_model.predict(X_test_scaled)"
   ]
  },
  {
   "cell_type": "code",
   "execution_count": 164,
   "metadata": {},
   "outputs": [
    {
     "name": "stdout",
     "output_type": "stream",
     "text": [
      "SVM Classification Report:\n",
      "               precision    recall  f1-score   support\n",
      "\n",
      "           0       0.92      0.92      0.92       238\n",
      "           1       0.00      0.00      0.00       179\n",
      "           2       0.69      0.96      0.80       451\n",
      "\n",
      "    accuracy                           0.75       868\n",
      "   macro avg       0.53      0.63      0.57       868\n",
      "weighted avg       0.61      0.75      0.67       868\n",
      "\n",
      "SVM Accuracy: 0.75\n"
     ]
    },
    {
     "name": "stderr",
     "output_type": "stream",
     "text": [
      "d:\\Customer Segmentation API\\rfm_env\\lib\\site-packages\\sklearn\\metrics\\_classification.py:1471: UndefinedMetricWarning: Precision and F-score are ill-defined and being set to 0.0 in labels with no predicted samples. Use `zero_division` parameter to control this behavior.\n",
      "  _warn_prf(average, modifier, msg_start, len(result))\n",
      "d:\\Customer Segmentation API\\rfm_env\\lib\\site-packages\\sklearn\\metrics\\_classification.py:1471: UndefinedMetricWarning: Precision and F-score are ill-defined and being set to 0.0 in labels with no predicted samples. Use `zero_division` parameter to control this behavior.\n",
      "  _warn_prf(average, modifier, msg_start, len(result))\n",
      "d:\\Customer Segmentation API\\rfm_env\\lib\\site-packages\\sklearn\\metrics\\_classification.py:1471: UndefinedMetricWarning: Precision and F-score are ill-defined and being set to 0.0 in labels with no predicted samples. Use `zero_division` parameter to control this behavior.\n",
      "  _warn_prf(average, modifier, msg_start, len(result))\n"
     ]
    }
   ],
   "source": [
    "print(\"SVM Classification Report:\\n\", classification_report(y_test, svm_predict))\n",
    "print(\"SVM Accuracy:\", accuracy_score(y_test, svm_predict))"
   ]
  },
  {
   "cell_type": "markdown",
   "metadata": {},
   "source": [
    "## Random Forest Classifier"
   ]
  },
  {
   "cell_type": "code",
   "execution_count": 97,
   "metadata": {},
   "outputs": [
    {
     "data": {
      "text/html": [
       "<style>#sk-container-id-2 {color: black;}#sk-container-id-2 pre{padding: 0;}#sk-container-id-2 div.sk-toggleable {background-color: white;}#sk-container-id-2 label.sk-toggleable__label {cursor: pointer;display: block;width: 100%;margin-bottom: 0;padding: 0.3em;box-sizing: border-box;text-align: center;}#sk-container-id-2 label.sk-toggleable__label-arrow:before {content: \"▸\";float: left;margin-right: 0.25em;color: #696969;}#sk-container-id-2 label.sk-toggleable__label-arrow:hover:before {color: black;}#sk-container-id-2 div.sk-estimator:hover label.sk-toggleable__label-arrow:before {color: black;}#sk-container-id-2 div.sk-toggleable__content {max-height: 0;max-width: 0;overflow: hidden;text-align: left;background-color: #f0f8ff;}#sk-container-id-2 div.sk-toggleable__content pre {margin: 0.2em;color: black;border-radius: 0.25em;background-color: #f0f8ff;}#sk-container-id-2 input.sk-toggleable__control:checked~div.sk-toggleable__content {max-height: 200px;max-width: 100%;overflow: auto;}#sk-container-id-2 input.sk-toggleable__control:checked~label.sk-toggleable__label-arrow:before {content: \"▾\";}#sk-container-id-2 div.sk-estimator input.sk-toggleable__control:checked~label.sk-toggleable__label {background-color: #d4ebff;}#sk-container-id-2 div.sk-label input.sk-toggleable__control:checked~label.sk-toggleable__label {background-color: #d4ebff;}#sk-container-id-2 input.sk-hidden--visually {border: 0;clip: rect(1px 1px 1px 1px);clip: rect(1px, 1px, 1px, 1px);height: 1px;margin: -1px;overflow: hidden;padding: 0;position: absolute;width: 1px;}#sk-container-id-2 div.sk-estimator {font-family: monospace;background-color: #f0f8ff;border: 1px dotted black;border-radius: 0.25em;box-sizing: border-box;margin-bottom: 0.5em;}#sk-container-id-2 div.sk-estimator:hover {background-color: #d4ebff;}#sk-container-id-2 div.sk-parallel-item::after {content: \"\";width: 100%;border-bottom: 1px solid gray;flex-grow: 1;}#sk-container-id-2 div.sk-label:hover label.sk-toggleable__label {background-color: #d4ebff;}#sk-container-id-2 div.sk-serial::before {content: \"\";position: absolute;border-left: 1px solid gray;box-sizing: border-box;top: 0;bottom: 0;left: 50%;z-index: 0;}#sk-container-id-2 div.sk-serial {display: flex;flex-direction: column;align-items: center;background-color: white;padding-right: 0.2em;padding-left: 0.2em;position: relative;}#sk-container-id-2 div.sk-item {position: relative;z-index: 1;}#sk-container-id-2 div.sk-parallel {display: flex;align-items: stretch;justify-content: center;background-color: white;position: relative;}#sk-container-id-2 div.sk-item::before, #sk-container-id-2 div.sk-parallel-item::before {content: \"\";position: absolute;border-left: 1px solid gray;box-sizing: border-box;top: 0;bottom: 0;left: 50%;z-index: -1;}#sk-container-id-2 div.sk-parallel-item {display: flex;flex-direction: column;z-index: 1;position: relative;background-color: white;}#sk-container-id-2 div.sk-parallel-item:first-child::after {align-self: flex-end;width: 50%;}#sk-container-id-2 div.sk-parallel-item:last-child::after {align-self: flex-start;width: 50%;}#sk-container-id-2 div.sk-parallel-item:only-child::after {width: 0;}#sk-container-id-2 div.sk-dashed-wrapped {border: 1px dashed gray;margin: 0 0.4em 0.5em 0.4em;box-sizing: border-box;padding-bottom: 0.4em;background-color: white;}#sk-container-id-2 div.sk-label label {font-family: monospace;font-weight: bold;display: inline-block;line-height: 1.2em;}#sk-container-id-2 div.sk-label-container {text-align: center;}#sk-container-id-2 div.sk-container {/* jupyter's `normalize.less` sets `[hidden] { display: none; }` but bootstrap.min.css set `[hidden] { display: none !important; }` so we also need the `!important` here to be able to override the default hidden behavior on the sphinx rendered scikit-learn.org. See: https://github.com/scikit-learn/scikit-learn/issues/21755 */display: inline-block !important;position: relative;}#sk-container-id-2 div.sk-text-repr-fallback {display: none;}</style><div id=\"sk-container-id-2\" class=\"sk-top-container\"><div class=\"sk-text-repr-fallback\"><pre>RandomForestClassifier(random_state=42)</pre><b>In a Jupyter environment, please rerun this cell to show the HTML representation or trust the notebook. <br />On GitHub, the HTML representation is unable to render, please try loading this page with nbviewer.org.</b></div><div class=\"sk-container\" hidden><div class=\"sk-item\"><div class=\"sk-estimator sk-toggleable\"><input class=\"sk-toggleable__control sk-hidden--visually\" id=\"sk-estimator-id-2\" type=\"checkbox\" checked><label for=\"sk-estimator-id-2\" class=\"sk-toggleable__label sk-toggleable__label-arrow\">RandomForestClassifier</label><div class=\"sk-toggleable__content\"><pre>RandomForestClassifier(random_state=42)</pre></div></div></div></div></div>"
      ],
      "text/plain": [
       "RandomForestClassifier(random_state=42)"
      ]
     },
     "execution_count": 97,
     "metadata": {},
     "output_type": "execute_result"
    }
   ],
   "source": [
    "rf_model= RandomForestClassifier(n_estimators=100, random_state=42)\n",
    "rf_model.fit(X_train_scaled,y_train)"
   ]
  },
  {
   "cell_type": "code",
   "execution_count": 98,
   "metadata": {},
   "outputs": [],
   "source": [
    "rf_prediction= rf_model.predict(X_test_scaled)"
   ]
  },
  {
   "cell_type": "code",
   "execution_count": 101,
   "metadata": {},
   "outputs": [
    {
     "data": {
      "text/plain": [
       "array([0, 1, 2, 2, 2, 0, 2, 1, 2, 2, 0, 2, 2, 2, 0, 1, 0, 2, 1, 2, 0, 2,\n",
       "       0, 2, 0, 0, 2, 0, 0, 0, 2, 1, 0, 2, 0, 2, 1, 0, 0, 2, 0, 2, 2, 0,\n",
       "       1, 0, 0, 2, 2, 2, 0, 2, 0, 2, 2, 2, 2, 2, 1, 1, 2, 2, 2, 0, 0, 2,\n",
       "       2, 0, 1, 1, 1, 1, 1, 1, 2, 2, 2, 2, 2, 2, 1, 2, 1, 2, 2, 2, 0, 2,\n",
       "       0, 2, 2, 2, 0, 2, 0, 2, 0, 2, 2, 2, 2, 0, 1, 2, 1, 2, 1, 2, 1, 2,\n",
       "       2, 2, 2, 2, 2, 0, 2, 1, 2, 2, 2, 0, 1, 2, 2, 2, 2, 0, 1, 2, 2, 0,\n",
       "       2, 2, 2, 2, 1, 1, 2, 0, 2, 0, 0, 0, 0, 2, 1, 0, 2, 2, 2, 2, 2, 2,\n",
       "       2, 2, 2, 2, 0, 1, 2, 0, 1, 1, 1, 0, 1, 0, 2, 2, 0, 2, 2, 0, 1, 2,\n",
       "       1, 2, 2, 0, 2, 0, 2, 1, 2, 2, 0, 2, 2, 0, 0, 2, 1, 0, 0, 0, 2, 2,\n",
       "       1, 2, 2, 2, 2, 2, 0, 2, 2, 0, 1, 2, 2, 2, 1, 0, 1, 2, 0, 2, 2, 1,\n",
       "       2, 2, 1, 1, 0, 1, 0, 2, 0, 2, 0, 1, 2, 0, 2, 2, 1, 0, 2, 1, 2, 0,\n",
       "       2, 2, 0, 2, 1, 1, 0, 2, 0, 0, 1, 0, 2, 2, 0, 2, 2, 1, 1, 0, 2, 2,\n",
       "       2, 2, 2, 2, 0, 0, 2, 1, 1, 2, 1, 1, 1, 2, 0, 0, 2, 0, 1, 0, 0, 0,\n",
       "       2, 2, 0, 0, 0, 2, 0, 2, 2, 1, 2, 2, 2, 2, 2, 2, 1, 2, 0, 2, 0, 2,\n",
       "       1, 0, 2, 2, 2, 1, 0, 2, 2, 2, 2, 0, 0, 0, 2, 0, 1, 1, 2, 2, 2, 2,\n",
       "       1, 2, 0, 2, 0, 2, 0, 2, 1, 2, 1, 2, 0, 2, 1, 2, 2, 2, 2, 0, 2, 2,\n",
       "       2, 2, 1, 0, 0, 0, 2, 2, 1, 1, 1, 2, 0, 0, 1, 2, 2, 2, 2, 2, 2, 2,\n",
       "       0, 0, 0, 1, 2, 0, 1, 1, 0, 2, 2, 0, 1, 2, 0, 2, 2, 2, 1, 1, 0, 2,\n",
       "       2, 2, 0, 2, 2, 2, 2, 1, 2, 1, 1, 0, 2, 2, 0, 2, 0, 1, 1, 2, 2, 0,\n",
       "       1, 1, 0, 2, 0, 0, 2, 2, 0, 2, 1, 2, 2, 1, 2, 2, 0, 0, 1, 2, 1, 1,\n",
       "       2, 2, 1, 1, 2, 1, 1, 0, 2, 2, 0, 2, 2, 0, 1, 2, 0, 1, 2, 0, 0, 2,\n",
       "       2, 2, 2, 2, 2, 1, 1, 2, 2, 2, 0, 2, 2, 2, 1, 2, 0, 2, 0, 0, 1, 2,\n",
       "       2, 2, 2, 2, 2, 0, 2, 0, 2, 2, 2, 0, 0, 0, 2, 2, 2, 2, 2, 2, 0, 1,\n",
       "       1, 2, 0, 2, 1, 2, 2, 0, 0, 2, 0, 0, 2, 0, 2, 1, 2, 2, 0, 0, 2, 2,\n",
       "       2, 1, 0, 0, 0, 2, 2, 2, 2, 2, 0, 1, 2, 0, 2, 0, 1, 1, 2, 0, 1, 2,\n",
       "       0, 2, 2, 2, 1, 2, 0, 0, 1, 0, 0, 2, 2, 2, 1, 1, 1, 2, 2, 2, 1, 1,\n",
       "       2, 1, 2, 2, 1, 2, 2, 2, 1, 2, 2, 2, 1, 0, 2, 1, 0, 2, 0, 2, 2, 2,\n",
       "       2, 0, 1, 0, 1, 1, 2, 2, 2, 1, 0, 0, 0, 2, 2, 2, 1, 2, 1, 1, 0, 2,\n",
       "       2, 2, 2, 2, 1, 1, 2, 2, 2, 2, 2, 2, 1, 2, 0, 2, 1, 1, 0, 0, 2, 0,\n",
       "       0, 2, 2, 1, 2, 2, 2, 1, 2, 0, 1, 0, 2, 2, 2, 0, 0, 2, 2, 1, 1, 0,\n",
       "       2, 1, 0, 2, 0, 0, 2, 0, 2, 0, 2, 2, 1, 0, 0, 0, 0, 0, 2, 1, 2, 0,\n",
       "       1, 1, 2, 0, 1, 2, 2, 0, 0, 0, 2, 2, 2, 0, 0, 0, 2, 2, 0, 2, 2, 2,\n",
       "       2, 2, 2, 1, 1, 2, 1, 2, 2, 2, 1, 2, 0, 0, 2, 2, 2, 2, 2, 2, 2, 1,\n",
       "       0, 2, 1, 0, 1, 1, 0, 2, 2, 2, 1, 2, 1, 2, 2, 2, 2, 2, 0, 1, 0, 2,\n",
       "       0, 0, 0, 1, 0, 2, 2, 2, 1, 2, 2, 2, 2, 0, 0, 2, 0, 0, 2, 1, 0, 1,\n",
       "       0, 0, 2, 2, 2, 0, 1, 1, 2, 1, 2, 0, 2, 2, 2, 2, 1, 0, 1, 2, 0, 2,\n",
       "       2, 2, 2, 2, 2, 2, 2, 2, 2, 2, 0, 2, 2, 0, 1, 2, 2, 0, 2, 0, 2, 0,\n",
       "       1, 2, 0, 1, 2, 2, 0, 0, 2, 0, 2, 2, 2, 2, 1, 2, 0, 0, 0, 2, 2, 2,\n",
       "       2, 0, 2, 2, 2, 2, 0, 1, 1, 0, 2, 2, 1, 0, 2, 2, 0, 2, 2, 2, 0, 2,\n",
       "       2, 1, 0, 2, 0, 1, 0, 0, 2, 2], dtype=int64)"
      ]
     },
     "execution_count": 101,
     "metadata": {},
     "output_type": "execute_result"
    }
   ],
   "source": [
    "rf_prediction"
   ]
  },
  {
   "cell_type": "code",
   "execution_count": 102,
   "metadata": {},
   "outputs": [],
   "source": [
    "def replace_numeric_labels(array):\n",
    "    labels = {\n",
    "        0: \"Potential\",\n",
    "        1: \"Hibernating\",\n",
    "        2: \"At-Risk\"\n",
    "    }\n",
    "    return np.vectorize(labels.get)(array)"
   ]
  },
  {
   "cell_type": "code",
   "execution_count": 104,
   "metadata": {},
   "outputs": [
    {
     "name": "stdout",
     "output_type": "stream",
     "text": [
      "['Potential' 'Hibernating' 'At-Risk' 'At-Risk' 'At-Risk' 'Potential'\n",
      " 'At-Risk' 'Hibernating' 'At-Risk' 'At-Risk' 'Potential' 'At-Risk'\n",
      " 'At-Risk' 'At-Risk' 'Potential' 'Hibernating' 'Potential' 'At-Risk'\n",
      " 'Hibernating' 'At-Risk' 'Potential' 'At-Risk' 'Potential' 'At-Risk'\n",
      " 'Potential' 'Potential' 'At-Risk' 'Potential' 'Potential' 'Potential'\n",
      " 'At-Risk' 'Hibernating' 'Potential' 'At-Risk' 'Potential' 'At-Risk'\n",
      " 'Hibernating' 'Potential' 'Potential' 'At-Risk' 'Potential' 'At-Risk'\n",
      " 'At-Risk' 'Potential' 'Hibernating' 'Potential' 'Potential' 'At-Risk'\n",
      " 'At-Risk' 'At-Risk' 'Potential' 'At-Risk' 'Potential' 'At-Risk' 'At-Risk'\n",
      " 'At-Risk' 'At-Risk' 'At-Risk' 'Hibernating' 'Hibernating' 'At-Risk'\n",
      " 'At-Risk' 'At-Risk' 'Potential' 'Potential' 'At-Risk' 'At-Risk'\n",
      " 'Potential' 'Hibernating' 'Hibernating' 'Hibernating' 'Hibernating'\n",
      " 'Hibernating' 'Hibernating' 'At-Risk' 'At-Risk' 'At-Risk' 'At-Risk'\n",
      " 'At-Risk' 'At-Risk' 'Hibernating' 'At-Risk' 'Hibernating' 'At-Risk'\n",
      " 'At-Risk' 'At-Risk' 'Potential' 'At-Risk' 'Potential' 'At-Risk' 'At-Risk'\n",
      " 'At-Risk' 'Potential' 'At-Risk' 'Potential' 'At-Risk' 'Potential'\n",
      " 'At-Risk' 'At-Risk' 'At-Risk' 'At-Risk' 'Potential' 'Hibernating'\n",
      " 'At-Risk' 'Hibernating' 'At-Risk' 'Hibernating' 'At-Risk' 'Hibernating'\n",
      " 'At-Risk' 'At-Risk' 'At-Risk' 'At-Risk' 'At-Risk' 'At-Risk' 'Potential'\n",
      " 'At-Risk' 'Hibernating' 'At-Risk' 'At-Risk' 'At-Risk' 'Potential'\n",
      " 'Hibernating' 'At-Risk' 'At-Risk' 'At-Risk' 'At-Risk' 'Potential'\n",
      " 'Hibernating' 'At-Risk' 'At-Risk' 'Potential' 'At-Risk' 'At-Risk'\n",
      " 'At-Risk' 'At-Risk' 'Hibernating' 'Hibernating' 'At-Risk' 'Potential'\n",
      " 'At-Risk' 'Potential' 'Potential' 'Potential' 'Potential' 'At-Risk'\n",
      " 'Hibernating' 'Potential' 'At-Risk' 'At-Risk' 'At-Risk' 'At-Risk'\n",
      " 'At-Risk' 'At-Risk' 'At-Risk' 'At-Risk' 'At-Risk' 'At-Risk' 'Potential'\n",
      " 'Hibernating' 'At-Risk' 'Potential' 'Hibernating' 'Hibernating'\n",
      " 'Hibernating' 'Potential' 'Hibernating' 'Potential' 'At-Risk' 'At-Risk'\n",
      " 'Potential' 'At-Risk' 'At-Risk' 'Potential' 'Hibernating' 'At-Risk'\n",
      " 'Hibernating' 'At-Risk' 'At-Risk' 'Potential' 'At-Risk' 'Potential'\n",
      " 'At-Risk' 'Hibernating' 'At-Risk' 'At-Risk' 'Potential' 'At-Risk'\n",
      " 'At-Risk' 'Potential' 'Potential' 'At-Risk' 'Hibernating' 'Potential'\n",
      " 'Potential' 'Potential' 'At-Risk' 'At-Risk' 'Hibernating' 'At-Risk'\n",
      " 'At-Risk' 'At-Risk' 'At-Risk' 'At-Risk' 'Potential' 'At-Risk' 'At-Risk'\n",
      " 'Potential' 'Hibernating' 'At-Risk' 'At-Risk' 'At-Risk' 'Hibernating'\n",
      " 'Potential' 'Hibernating' 'At-Risk' 'Potential' 'At-Risk' 'At-Risk'\n",
      " 'Hibernating' 'At-Risk' 'At-Risk' 'Hibernating' 'Hibernating' 'Potential'\n",
      " 'Hibernating' 'Potential' 'At-Risk' 'Potential' 'At-Risk' 'Potential'\n",
      " 'Hibernating' 'At-Risk' 'Potential' 'At-Risk' 'At-Risk' 'Hibernating'\n",
      " 'Potential' 'At-Risk' 'Hibernating' 'At-Risk' 'Potential' 'At-Risk'\n",
      " 'At-Risk' 'Potential' 'At-Risk' 'Hibernating' 'Hibernating' 'Potential'\n",
      " 'At-Risk' 'Potential' 'Potential' 'Hibernating' 'Potential' 'At-Risk'\n",
      " 'At-Risk' 'Potential' 'At-Risk' 'At-Risk' 'Hibernating' 'Hibernating'\n",
      " 'Potential' 'At-Risk' 'At-Risk' 'At-Risk' 'At-Risk' 'At-Risk' 'At-Risk'\n",
      " 'Potential' 'Potential' 'At-Risk' 'Hibernating' 'Hibernating' 'At-Risk'\n",
      " 'Hibernating' 'Hibernating' 'Hibernating' 'At-Risk' 'Potential'\n",
      " 'Potential' 'At-Risk' 'Potential' 'Hibernating' 'Potential' 'Potential'\n",
      " 'Potential' 'At-Risk' 'At-Risk' 'Potential' 'Potential' 'Potential'\n",
      " 'At-Risk' 'Potential' 'At-Risk' 'At-Risk' 'Hibernating' 'At-Risk'\n",
      " 'At-Risk' 'At-Risk' 'At-Risk' 'At-Risk' 'At-Risk' 'Hibernating' 'At-Risk'\n",
      " 'Potential' 'At-Risk' 'Potential' 'At-Risk' 'Hibernating' 'Potential'\n",
      " 'At-Risk' 'At-Risk' 'At-Risk' 'Hibernating' 'Potential' 'At-Risk'\n",
      " 'At-Risk' 'At-Risk' 'At-Risk' 'Potential' 'Potential' 'Potential'\n",
      " 'At-Risk' 'Potential' 'Hibernating' 'Hibernating' 'At-Risk' 'At-Risk'\n",
      " 'At-Risk' 'At-Risk' 'Hibernating' 'At-Risk' 'Potential' 'At-Risk'\n",
      " 'Potential' 'At-Risk' 'Potential' 'At-Risk' 'Hibernating' 'At-Risk'\n",
      " 'Hibernating' 'At-Risk' 'Potential' 'At-Risk' 'Hibernating' 'At-Risk'\n",
      " 'At-Risk' 'At-Risk' 'At-Risk' 'Potential' 'At-Risk' 'At-Risk' 'At-Risk'\n",
      " 'At-Risk' 'Hibernating' 'Potential' 'Potential' 'Potential' 'At-Risk'\n",
      " 'At-Risk' 'Hibernating' 'Hibernating' 'Hibernating' 'At-Risk' 'Potential'\n",
      " 'Potential' 'Hibernating' 'At-Risk' 'At-Risk' 'At-Risk' 'At-Risk'\n",
      " 'At-Risk' 'At-Risk' 'At-Risk' 'Potential' 'Potential' 'Potential'\n",
      " 'Hibernating' 'At-Risk' 'Potential' 'Hibernating' 'Hibernating'\n",
      " 'Potential' 'At-Risk' 'At-Risk' 'Potential' 'Hibernating' 'At-Risk'\n",
      " 'Potential' 'At-Risk' 'At-Risk' 'At-Risk' 'Hibernating' 'Hibernating'\n",
      " 'Potential' 'At-Risk' 'At-Risk' 'At-Risk' 'Potential' 'At-Risk' 'At-Risk'\n",
      " 'At-Risk' 'At-Risk' 'Hibernating' 'At-Risk' 'Hibernating' 'Hibernating'\n",
      " 'Potential' 'At-Risk' 'At-Risk' 'Potential' 'At-Risk' 'Potential'\n",
      " 'Hibernating' 'Hibernating' 'At-Risk' 'At-Risk' 'Potential' 'Hibernating'\n",
      " 'Hibernating' 'Potential' 'At-Risk' 'Potential' 'Potential' 'At-Risk'\n",
      " 'At-Risk' 'Potential' 'At-Risk' 'Hibernating' 'At-Risk' 'At-Risk'\n",
      " 'Hibernating' 'At-Risk' 'At-Risk' 'Potential' 'Potential' 'Hibernating'\n",
      " 'At-Risk' 'Hibernating' 'Hibernating' 'At-Risk' 'At-Risk' 'Hibernating'\n",
      " 'Hibernating' 'At-Risk' 'Hibernating' 'Hibernating' 'Potential' 'At-Risk'\n",
      " 'At-Risk' 'Potential' 'At-Risk' 'At-Risk' 'Potential' 'Hibernating'\n",
      " 'At-Risk' 'Potential' 'Hibernating' 'At-Risk' 'Potential' 'Potential'\n",
      " 'At-Risk' 'At-Risk' 'At-Risk' 'At-Risk' 'At-Risk' 'At-Risk' 'Hibernating'\n",
      " 'Hibernating' 'At-Risk' 'At-Risk' 'At-Risk' 'Potential' 'At-Risk'\n",
      " 'At-Risk' 'At-Risk' 'Hibernating' 'At-Risk' 'Potential' 'At-Risk'\n",
      " 'Potential' 'Potential' 'Hibernating' 'At-Risk' 'At-Risk' 'At-Risk'\n",
      " 'At-Risk' 'At-Risk' 'At-Risk' 'Potential' 'At-Risk' 'Potential' 'At-Risk'\n",
      " 'At-Risk' 'At-Risk' 'Potential' 'Potential' 'Potential' 'At-Risk'\n",
      " 'At-Risk' 'At-Risk' 'At-Risk' 'At-Risk' 'At-Risk' 'Potential'\n",
      " 'Hibernating' 'Hibernating' 'At-Risk' 'Potential' 'At-Risk' 'Hibernating'\n",
      " 'At-Risk' 'At-Risk' 'Potential' 'Potential' 'At-Risk' 'Potential'\n",
      " 'Potential' 'At-Risk' 'Potential' 'At-Risk' 'Hibernating' 'At-Risk'\n",
      " 'At-Risk' 'Potential' 'Potential' 'At-Risk' 'At-Risk' 'At-Risk'\n",
      " 'Hibernating' 'Potential' 'Potential' 'Potential' 'At-Risk' 'At-Risk'\n",
      " 'At-Risk' 'At-Risk' 'At-Risk' 'Potential' 'Hibernating' 'At-Risk'\n",
      " 'Potential' 'At-Risk' 'Potential' 'Hibernating' 'Hibernating' 'At-Risk'\n",
      " 'Potential' 'Hibernating' 'At-Risk' 'Potential' 'At-Risk' 'At-Risk'\n",
      " 'At-Risk' 'Hibernating' 'At-Risk' 'Potential' 'Potential' 'Hibernating'\n",
      " 'Potential' 'Potential' 'At-Risk' 'At-Risk' 'At-Risk' 'Hibernating'\n",
      " 'Hibernating' 'Hibernating' 'At-Risk' 'At-Risk' 'At-Risk' 'Hibernating'\n",
      " 'Hibernating' 'At-Risk' 'Hibernating' 'At-Risk' 'At-Risk' 'Hibernating'\n",
      " 'At-Risk' 'At-Risk' 'At-Risk' 'Hibernating' 'At-Risk' 'At-Risk' 'At-Risk'\n",
      " 'Hibernating' 'Potential' 'At-Risk' 'Hibernating' 'Potential' 'At-Risk'\n",
      " 'Potential' 'At-Risk' 'At-Risk' 'At-Risk' 'At-Risk' 'Potential'\n",
      " 'Hibernating' 'Potential' 'Hibernating' 'Hibernating' 'At-Risk' 'At-Risk'\n",
      " 'At-Risk' 'Hibernating' 'Potential' 'Potential' 'Potential' 'At-Risk'\n",
      " 'At-Risk' 'At-Risk' 'Hibernating' 'At-Risk' 'Hibernating' 'Hibernating'\n",
      " 'Potential' 'At-Risk' 'At-Risk' 'At-Risk' 'At-Risk' 'At-Risk'\n",
      " 'Hibernating' 'Hibernating' 'At-Risk' 'At-Risk' 'At-Risk' 'At-Risk'\n",
      " 'At-Risk' 'At-Risk' 'Hibernating' 'At-Risk' 'Potential' 'At-Risk'\n",
      " 'Hibernating' 'Hibernating' 'Potential' 'Potential' 'At-Risk' 'Potential'\n",
      " 'Potential' 'At-Risk' 'At-Risk' 'Hibernating' 'At-Risk' 'At-Risk'\n",
      " 'At-Risk' 'Hibernating' 'At-Risk' 'Potential' 'Hibernating' 'Potential'\n",
      " 'At-Risk' 'At-Risk' 'At-Risk' 'Potential' 'Potential' 'At-Risk' 'At-Risk'\n",
      " 'Hibernating' 'Hibernating' 'Potential' 'At-Risk' 'Hibernating'\n",
      " 'Potential' 'At-Risk' 'Potential' 'Potential' 'At-Risk' 'Potential'\n",
      " 'At-Risk' 'Potential' 'At-Risk' 'At-Risk' 'Hibernating' 'Potential'\n",
      " 'Potential' 'Potential' 'Potential' 'Potential' 'At-Risk' 'Hibernating'\n",
      " 'At-Risk' 'Potential' 'Hibernating' 'Hibernating' 'At-Risk' 'Potential'\n",
      " 'Hibernating' 'At-Risk' 'At-Risk' 'Potential' 'Potential' 'Potential'\n",
      " 'At-Risk' 'At-Risk' 'At-Risk' 'Potential' 'Potential' 'Potential'\n",
      " 'At-Risk' 'At-Risk' 'Potential' 'At-Risk' 'At-Risk' 'At-Risk' 'At-Risk'\n",
      " 'At-Risk' 'At-Risk' 'Hibernating' 'Hibernating' 'At-Risk' 'Hibernating'\n",
      " 'At-Risk' 'At-Risk' 'At-Risk' 'Hibernating' 'At-Risk' 'Potential'\n",
      " 'Potential' 'At-Risk' 'At-Risk' 'At-Risk' 'At-Risk' 'At-Risk' 'At-Risk'\n",
      " 'At-Risk' 'Hibernating' 'Potential' 'At-Risk' 'Hibernating' 'Potential'\n",
      " 'Hibernating' 'Hibernating' 'Potential' 'At-Risk' 'At-Risk' 'At-Risk'\n",
      " 'Hibernating' 'At-Risk' 'Hibernating' 'At-Risk' 'At-Risk' 'At-Risk'\n",
      " 'At-Risk' 'At-Risk' 'Potential' 'Hibernating' 'Potential' 'At-Risk'\n",
      " 'Potential' 'Potential' 'Potential' 'Hibernating' 'Potential' 'At-Risk'\n",
      " 'At-Risk' 'At-Risk' 'Hibernating' 'At-Risk' 'At-Risk' 'At-Risk' 'At-Risk'\n",
      " 'Potential' 'Potential' 'At-Risk' 'Potential' 'Potential' 'At-Risk'\n",
      " 'Hibernating' 'Potential' 'Hibernating' 'Potential' 'Potential' 'At-Risk'\n",
      " 'At-Risk' 'At-Risk' 'Potential' 'Hibernating' 'Hibernating' 'At-Risk'\n",
      " 'Hibernating' 'At-Risk' 'Potential' 'At-Risk' 'At-Risk' 'At-Risk'\n",
      " 'At-Risk' 'Hibernating' 'Potential' 'Hibernating' 'At-Risk' 'Potential'\n",
      " 'At-Risk' 'At-Risk' 'At-Risk' 'At-Risk' 'At-Risk' 'At-Risk' 'At-Risk'\n",
      " 'At-Risk' 'At-Risk' 'At-Risk' 'At-Risk' 'Potential' 'At-Risk' 'At-Risk'\n",
      " 'Potential' 'Hibernating' 'At-Risk' 'At-Risk' 'Potential' 'At-Risk'\n",
      " 'Potential' 'At-Risk' 'Potential' 'Hibernating' 'At-Risk' 'Potential'\n",
      " 'Hibernating' 'At-Risk' 'At-Risk' 'Potential' 'Potential' 'At-Risk'\n",
      " 'Potential' 'At-Risk' 'At-Risk' 'At-Risk' 'At-Risk' 'Hibernating'\n",
      " 'At-Risk' 'Potential' 'Potential' 'Potential' 'At-Risk' 'At-Risk'\n",
      " 'At-Risk' 'At-Risk' 'Potential' 'At-Risk' 'At-Risk' 'At-Risk' 'At-Risk'\n",
      " 'Potential' 'Hibernating' 'Hibernating' 'Potential' 'At-Risk' 'At-Risk'\n",
      " 'Hibernating' 'Potential' 'At-Risk' 'At-Risk' 'Potential' 'At-Risk'\n",
      " 'At-Risk' 'At-Risk' 'Potential' 'At-Risk' 'At-Risk' 'Hibernating'\n",
      " 'Potential' 'At-Risk' 'Potential' 'Hibernating' 'Potential' 'Potential'\n",
      " 'At-Risk' 'At-Risk']\n"
     ]
    }
   ],
   "source": [
    "labeled_predictions = replace_numeric_labels(rf_prediction)\n",
    "\n",
    "print(labeled_predictions)"
   ]
  },
  {
   "cell_type": "code",
   "execution_count": 51,
   "metadata": {},
   "outputs": [
    {
     "name": "stdout",
     "output_type": "stream",
     "text": [
      "Random Forest Classification Report:\n",
      "               precision    recall  f1-score   support\n",
      "\n",
      "           0       0.99      1.00      1.00       238\n",
      "           1       0.97      0.94      0.96       179\n",
      "           2       0.98      0.98      0.98       451\n",
      "\n",
      "    accuracy                           0.98       868\n",
      "   macro avg       0.98      0.98      0.98       868\n",
      "weighted avg       0.98      0.98      0.98       868\n",
      "\n",
      "Random Forest Accuracy: 0.9804147465437788\n"
     ]
    }
   ],
   "source": [
    "print(\"Random Forest Classification Report:\\n\", classification_report(y_test, rf_prediction))\n",
    "print(\"Random Forest Accuracy:\", accuracy_score(y_test, rf_prediction))"
   ]
  },
  {
   "cell_type": "code",
   "execution_count": 52,
   "metadata": {},
   "outputs": [],
   "source": [
    "import pickle\n",
    "import os\n",
    "with open('model/scaler.pkl', 'wb') as scaler_file:\n",
    "    pickle.dump(scaler, scaler_file)"
   ]
  },
  {
   "cell_type": "markdown",
   "metadata": {},
   "source": [
    "## Logistic Regression"
   ]
  },
  {
   "cell_type": "code",
   "execution_count": 168,
   "metadata": {},
   "outputs": [
    {
     "data": {
      "text/html": [
       "<style>#sk-container-id-3 {color: black;}#sk-container-id-3 pre{padding: 0;}#sk-container-id-3 div.sk-toggleable {background-color: white;}#sk-container-id-3 label.sk-toggleable__label {cursor: pointer;display: block;width: 100%;margin-bottom: 0;padding: 0.3em;box-sizing: border-box;text-align: center;}#sk-container-id-3 label.sk-toggleable__label-arrow:before {content: \"▸\";float: left;margin-right: 0.25em;color: #696969;}#sk-container-id-3 label.sk-toggleable__label-arrow:hover:before {color: black;}#sk-container-id-3 div.sk-estimator:hover label.sk-toggleable__label-arrow:before {color: black;}#sk-container-id-3 div.sk-toggleable__content {max-height: 0;max-width: 0;overflow: hidden;text-align: left;background-color: #f0f8ff;}#sk-container-id-3 div.sk-toggleable__content pre {margin: 0.2em;color: black;border-radius: 0.25em;background-color: #f0f8ff;}#sk-container-id-3 input.sk-toggleable__control:checked~div.sk-toggleable__content {max-height: 200px;max-width: 100%;overflow: auto;}#sk-container-id-3 input.sk-toggleable__control:checked~label.sk-toggleable__label-arrow:before {content: \"▾\";}#sk-container-id-3 div.sk-estimator input.sk-toggleable__control:checked~label.sk-toggleable__label {background-color: #d4ebff;}#sk-container-id-3 div.sk-label input.sk-toggleable__control:checked~label.sk-toggleable__label {background-color: #d4ebff;}#sk-container-id-3 input.sk-hidden--visually {border: 0;clip: rect(1px 1px 1px 1px);clip: rect(1px, 1px, 1px, 1px);height: 1px;margin: -1px;overflow: hidden;padding: 0;position: absolute;width: 1px;}#sk-container-id-3 div.sk-estimator {font-family: monospace;background-color: #f0f8ff;border: 1px dotted black;border-radius: 0.25em;box-sizing: border-box;margin-bottom: 0.5em;}#sk-container-id-3 div.sk-estimator:hover {background-color: #d4ebff;}#sk-container-id-3 div.sk-parallel-item::after {content: \"\";width: 100%;border-bottom: 1px solid gray;flex-grow: 1;}#sk-container-id-3 div.sk-label:hover label.sk-toggleable__label {background-color: #d4ebff;}#sk-container-id-3 div.sk-serial::before {content: \"\";position: absolute;border-left: 1px solid gray;box-sizing: border-box;top: 0;bottom: 0;left: 50%;z-index: 0;}#sk-container-id-3 div.sk-serial {display: flex;flex-direction: column;align-items: center;background-color: white;padding-right: 0.2em;padding-left: 0.2em;position: relative;}#sk-container-id-3 div.sk-item {position: relative;z-index: 1;}#sk-container-id-3 div.sk-parallel {display: flex;align-items: stretch;justify-content: center;background-color: white;position: relative;}#sk-container-id-3 div.sk-item::before, #sk-container-id-3 div.sk-parallel-item::before {content: \"\";position: absolute;border-left: 1px solid gray;box-sizing: border-box;top: 0;bottom: 0;left: 50%;z-index: -1;}#sk-container-id-3 div.sk-parallel-item {display: flex;flex-direction: column;z-index: 1;position: relative;background-color: white;}#sk-container-id-3 div.sk-parallel-item:first-child::after {align-self: flex-end;width: 50%;}#sk-container-id-3 div.sk-parallel-item:last-child::after {align-self: flex-start;width: 50%;}#sk-container-id-3 div.sk-parallel-item:only-child::after {width: 0;}#sk-container-id-3 div.sk-dashed-wrapped {border: 1px dashed gray;margin: 0 0.4em 0.5em 0.4em;box-sizing: border-box;padding-bottom: 0.4em;background-color: white;}#sk-container-id-3 div.sk-label label {font-family: monospace;font-weight: bold;display: inline-block;line-height: 1.2em;}#sk-container-id-3 div.sk-label-container {text-align: center;}#sk-container-id-3 div.sk-container {/* jupyter's `normalize.less` sets `[hidden] { display: none; }` but bootstrap.min.css set `[hidden] { display: none !important; }` so we also need the `!important` here to be able to override the default hidden behavior on the sphinx rendered scikit-learn.org. See: https://github.com/scikit-learn/scikit-learn/issues/21755 */display: inline-block !important;position: relative;}#sk-container-id-3 div.sk-text-repr-fallback {display: none;}</style><div id=\"sk-container-id-3\" class=\"sk-top-container\"><div class=\"sk-text-repr-fallback\"><pre>LogisticRegression(max_iter=1000, random_state=42)</pre><b>In a Jupyter environment, please rerun this cell to show the HTML representation or trust the notebook. <br />On GitHub, the HTML representation is unable to render, please try loading this page with nbviewer.org.</b></div><div class=\"sk-container\" hidden><div class=\"sk-item\"><div class=\"sk-estimator sk-toggleable\"><input class=\"sk-toggleable__control sk-hidden--visually\" id=\"sk-estimator-id-3\" type=\"checkbox\" checked><label for=\"sk-estimator-id-3\" class=\"sk-toggleable__label sk-toggleable__label-arrow\">LogisticRegression</label><div class=\"sk-toggleable__content\"><pre>LogisticRegression(max_iter=1000, random_state=42)</pre></div></div></div></div></div>"
      ],
      "text/plain": [
       "LogisticRegression(max_iter=1000, random_state=42)"
      ]
     },
     "execution_count": 168,
     "metadata": {},
     "output_type": "execute_result"
    }
   ],
   "source": [
    "lr_model= LogisticRegression(max_iter=1000, random_state=42)\n",
    "lr_model.fit(X_train_scaled, y_train)"
   ]
  },
  {
   "cell_type": "code",
   "execution_count": 169,
   "metadata": {},
   "outputs": [],
   "source": [
    "lr_prediction= lr_model.predict(X_test_scaled)"
   ]
  },
  {
   "cell_type": "code",
   "execution_count": 170,
   "metadata": {},
   "outputs": [
    {
     "name": "stdout",
     "output_type": "stream",
     "text": [
      "Random Forest Classification Report:\n",
      "               precision    recall  f1-score   support\n",
      "\n",
      "           0       0.90      0.93      0.91       238\n",
      "           1       0.00      0.00      0.00       179\n",
      "           2       0.68      0.94      0.79       451\n",
      "\n",
      "    accuracy                           0.75       868\n",
      "   macro avg       0.53      0.62      0.57       868\n",
      "weighted avg       0.60      0.75      0.66       868\n",
      "\n",
      "Random Forest Accuracy: 0.7453917050691244\n"
     ]
    },
    {
     "name": "stderr",
     "output_type": "stream",
     "text": [
      "d:\\Customer Segmentation API\\rfm_env\\lib\\site-packages\\sklearn\\metrics\\_classification.py:1471: UndefinedMetricWarning: Precision and F-score are ill-defined and being set to 0.0 in labels with no predicted samples. Use `zero_division` parameter to control this behavior.\n",
      "  _warn_prf(average, modifier, msg_start, len(result))\n",
      "d:\\Customer Segmentation API\\rfm_env\\lib\\site-packages\\sklearn\\metrics\\_classification.py:1471: UndefinedMetricWarning: Precision and F-score are ill-defined and being set to 0.0 in labels with no predicted samples. Use `zero_division` parameter to control this behavior.\n",
      "  _warn_prf(average, modifier, msg_start, len(result))\n",
      "d:\\Customer Segmentation API\\rfm_env\\lib\\site-packages\\sklearn\\metrics\\_classification.py:1471: UndefinedMetricWarning: Precision and F-score are ill-defined and being set to 0.0 in labels with no predicted samples. Use `zero_division` parameter to control this behavior.\n",
      "  _warn_prf(average, modifier, msg_start, len(result))\n"
     ]
    }
   ],
   "source": [
    "print(\"Random Forest Classification Report:\\n\", classification_report(y_test, lr_prediction))\n",
    "print(\"Random Forest Accuracy:\", accuracy_score(y_test, lr_prediction))"
   ]
  },
  {
   "cell_type": "code",
   "execution_count": 171,
   "metadata": {},
   "outputs": [],
   "source": [
    "# Save the Random Forest model\n",
    "import pickle\n",
    "import os\n",
    "model= 'D:\\Customer Segmentation API\\model'\n",
    "rf_model_path = os.path.join(model, \"rf_model.pkl\")\n",
    "with open(rf_model_path, 'wb') as file:\n",
    "    pickle.dump(rf_model, file)"
   ]
  },
  {
   "cell_type": "code",
   "execution_count": null,
   "metadata": {},
   "outputs": [],
   "source": []
  }
 ],
 "metadata": {
  "kernelspec": {
   "display_name": "rfm_env",
   "language": "python",
   "name": "python3"
  },
  "language_info": {
   "codemirror_mode": {
    "name": "ipython",
    "version": 3
   },
   "file_extension": ".py",
   "mimetype": "text/x-python",
   "name": "python",
   "nbconvert_exporter": "python",
   "pygments_lexer": "ipython3",
   "version": "3.8.8"
  }
 },
 "nbformat": 4,
 "nbformat_minor": 2
}
